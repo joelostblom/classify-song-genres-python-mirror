{
 "cells": [
  {
   "cell_type": "markdown",
   "metadata": {},
   "source": [
    "# Classifying Song Genres"
   ]
  },
  {
   "cell_type": "code",
   "execution_count": null,
   "metadata": {
    "collapsed": true
   },
   "outputs": [],
   "source": [
    "# This is a code cell without any tag. You can put convenience code here,\n",
    "# but it won't be included in any way in the final project.\n",
    "# For example, to be able to run tests locally in the notebook\n",
    "# you need to install the following:\n",
    "# pip install nose\n",
    "# pip install git+https://github.com/datacamp/ipython_nose\n",
    "# and then load in the ipython_nose extension like this:\n",
    "%load_ext ipython_nose"
   ]
  },
  {
   "cell_type": "markdown",
   "metadata": {},
   "source": [
    "Welcome to the official authoring notebook for your DataCamp Project! This notebook, named `project.ipynb`, contains a variety of tagged cells. Tags are in the top left corner of cells. Here's an example of a tag:\n",
    "\n",
    "![tagged_cell_img](https://i.imgur.com/H2TB22Y.png)\n",
    "\n",
    "These tagged cells are processed by software written by our talented DataCamp engineers and a [DataCamp Project](https://www.datacamp.com/projects) is the product.\n",
    "\n",
    "<img src=\"https://i.imgur.com/7mqMP5E.jpg\" alt=\"DataCamp Project interface\" width=\"600px\"/>\n",
    "\n",
    "Before you start working on this notebook, please read the `project.ipynb` notebook format in our [documentation](https://authoring.datacamp.com/projects/projects-format.html). Each type of tagged cell is described there.\n",
    "\n",
    "When you first open this notebook, you will find a template for each of the tagged cells for all tasks in your Project. Please abide by the content rules in both the documentation and in each template cell to ensure students have a consistent and smooth learning experience.\n",
    "\n",
    "If you can't find an answer in the documentation or in this template, please [create an Issue](https://help.github.com/articles/creating-an-issue/) in your Project's GitHub repository and your DataCamp contact will respond as soon as possible.\n",
    "\n",
    "Happy creating!\n",
    "\n",
    "*Again, this cell won't be included in the live version of the Project because it has no tag.*"
   ]
  },
  {
   "cell_type": "markdown",
   "metadata": {
    "tags": [
     "type:NotebookTask"
    ]
   },
   "source": [
    "## 1. Preparing our dataset"
   ]
  },
  {
   "cell_type": "markdown",
   "metadata": {
    "tags": [
     "@context"
    ]
   },
   "source": [
    "_These recommendations are so on point! How does this playlist know me so well?_\n",
    "\n",
    "Over the past few years, streaming services with huge catalogues have become the primary means through which most people listen to their favourite music. But at the same time, the sheer amount of music on offer can mean users might be a bit overwhelmed when trying to look for newer music that suits their tastes.\n",
    "\n",
    "For this reason, streaming services have looked into means of categorizing music to allow for personalized recommendations. One method involves direct analysis of the raw audio information in a given song, scoring the raw data on a variety of metrics. Today, we'll be examining data compiled by a research group known as The Echo Nest. Our goal is to look through this dataset and classify songs as being either 'Hip-Hop' or 'Rock' - all without listening to a single one ourselves. In doing so, we will learn how to clean our data, do some exploratory data visualization, and use feature reduction towards the goal of feeding our data through some simple machine learning algorithms, such as decision trees and logistic regression.\n",
    "\n",
    "To begin with, let's load the metadata about our tracks alongside the track metrics compiled by The Echo Nest. A song is about more than its title, artist, and number of listens. We have another dataset that has musical features of each track such as `danceability` and `acousticness` on a scale from -1 to 1. These exist in two different files, which are in different formats - csv and json. While csv is a popular file format for denoting tabular data, json is another common file format in which databases often return the results of a given query.\n",
    "\n",
    "Let's start by creating two pandas `DataFrames` out of these files that we can merge so we have labels and features for the classification later on."
   ]
  },
  {
   "cell_type": "markdown",
   "metadata": {
    "tags": [
     "@instructions"
    ]
   },
   "source": [
    "Read in the data using `pandas` and merge the dataframes into one usable dataset.\n",
    "\n",
    "- Read in the .csv with the track metadata and name the dataframe `tracks`.\n",
    "- Read in the .json with the track acoustic metrics and name the datafram `track_metrics`.\n",
    "- Merge the dataframes on matching `track_id` values. Only retain the `track_id` and `genre_top` columns of `tracks`. \n",
    "- Inspect the dataframe using the .info() method.\n",
    "\n",
    "<hr>\n",
    "\n",
    "## Good to know\n",
    "\n",
    "This Project lets you apply what you learned in [Supervised learning with scikit-learn](https://www.datacamp.com/courses/supervised-learning-with-scikit-learn) and learn some new skills as well, including data preprocessing, dimensionality reduction and machine learning using the `scikit-learn` package. We recommend you take those courses before starting this Project.\n",
    "\n",
    "Helpful links:\n",
    "- Documentation for pandas [`read_csv()`](), [`read_json()`]() and [`pd.merge()`]() functions\n",
    "- Variance of the PCA features [exercise](https://campus.datacamp.com/courses/unsupervised-learning-in-python/decorrelating-your-data-and-dimension-reduction?ex=7)\n",
    "- Train/test/split + Fit/Predict/Accuracy [exercise](https://campus.datacamp.com/courses/supervised-learning-with-scikit-learn/classification?ex=11)"
   ]
  },
  {
   "cell_type": "markdown",
   "metadata": {
    "tags": [
     "@hint"
    ]
   },
   "source": [
    "Hints are meant for students who are stuck. Since students can't view solutions in Projects, clicking the hint button is their last resort. We often recommend including code scaffolding (example below).\n",
    "\n",
    "You can read `path_to/my_data.csv` into a DataFrame named `my_data` like this after importing the pandas library:\n",
    "\n",
    "```python\n",
    "import pandas as pd\n",
    "my_data = pd.read_csv(\"path_to/my_data.csv\")\n",
    "```"
   ]
  },
  {
   "cell_type": "code",
   "execution_count": null,
   "metadata": {
    "collapsed": true,
    "tags": [
     "@sample_code"
    ]
   },
   "outputs": [],
   "source": [
    "import pandas as pd\n",
    "\n",
    "# Read in track metadata with genre labels\n",
    "tracks = ...\n",
    "\n",
    "# Read in track metrics with the features\n",
    "track_metrics = ...\n",
    "\n",
    "# Merge the relevant columns of tracks and track_metrics\n",
    "echo_tracks = ...\n",
    "\n",
    "# Inspect the resultant dataframe\n",
    "..."
   ]
  },
  {
   "cell_type": "code",
   "execution_count": null,
   "metadata": {
    "collapsed": true,
    "tags": [
     "@solution"
    ]
   },
   "outputs": [],
   "source": [
    "import pandas as pd\n",
    "\n",
    "# Read in track metadata with genre labels\n",
    "tracks = pd.read_csv('datasets/fma-rock-vs-hiphop.csv')\n",
    "\n",
    "# Read in track metrics with the features\n",
    "track_metrics = pd.read_json('datasets/echonest-clean.json', precise_float=True)\n",
    "\n",
    "# Merge the relevant columns of tracks and track_metrics\n",
    "echo_tracks = pd.merge(track_metrics, tracks[['genre_top', 'track_id']], on='track_id')\n",
    "\n",
    "# Inspect the resultant dataframe\n",
    "echo_tracks.head()"
   ]
  },
  {
   "cell_type": "code",
   "execution_count": null,
   "metadata": {
    "collapsed": true,
    "tags": [
     "@tests"
    ]
   },
   "outputs": [],
   "source": [
    "# This needs to be included at the beginning of every @tests cell.\n",
    "%%nose\n",
    "\n",
    "# One or more tests of the students code.\n",
    "# The @solution should pass the tests.\n",
    "# The purpose of the tests is to try to catch common errors and to \n",
    "# give the student a hint on how to resolve these errors.\n",
    "\n",
    "def test_example():\n",
    "    assert like_this == 'missing part filled in', \\\n",
    "    'The student will see this message if the test fails'"
   ]
  },
  {
   "cell_type": "markdown",
   "metadata": {
    "tags": [
     "type:NotebookTask"
    ]
   },
   "source": [
    "## 2. Exploring pairwise relationships between continuous variables"
   ]
  },
  {
   "cell_type": "markdown",
   "metadata": {
    "tags": [
     "@context"
    ]
   },
   "source": [
    "We typically want to avoid using variables that have strong correlations with each other -- hence avoiding feature redundancy -- for a few reasons:\n",
    "- to keep the model simple and improve interpretability (with many features, we run the risk of overfitting)\n",
    "- when our datasets are very large, using fewer features can drastically speed up our computation time\n",
    "\n",
    "To get a sense of whether there are any strongly correlated features in our data, we will use simple built-in functions in the `pandas` and `seaborn` packages. "
   ]
  },
  {
   "cell_type": "markdown",
   "metadata": {
    "tags": [
     "@instructions"
    ]
   },
   "source": [
    "Explore correlations in our dataset using pandas `corr` function and seaborn `pairplot`.\n",
    "- See if there are any strong correlations in the correlation table generated from `DataFrame.corr()`.\n",
    "- Import the `seaborn` library as `sns`.\n",
    "- Visualize the correlations using a pairwise scatter plot with `sns.pairplot()`.\n",
    "\n",
    "<hr>\n",
    "\n",
    "Helpful links:\n",
    "- seaborn `pairplot` function [documentation](https://seaborn.pydata.org/generated/seaborn.pairplot.html)"
   ]
  },
  {
   "cell_type": "markdown",
   "metadata": {
    "tags": [
     "@hint"
    ]
   },
   "source": [
    "Hints are meant for students who are stuck. Since students can't view solutions in Projects, clicking the hint button is their last resort. We often recommend including code scaffolding (example below).\n",
    "\n",
    "You can read `path_to/my_data.csv` into a DataFrame named `my_data` like this after importing the pandas library:\n",
    "\n",
    "```python\n",
    "import pandas as pd\n",
    "my_data = pd.read_csv(\"path_to/my_data.csv\")\n",
    "```"
   ]
  },
  {
   "cell_type": "code",
   "execution_count": null,
   "metadata": {
    "collapsed": true,
    "tags": [
     "@sample_code"
    ]
   },
   "outputs": [],
   "source": [
    "# Create a correlation matrix\n",
    "corr_metrics = ...\n",
    "print(corr_metrics)\n",
    "\n",
    "# Turn on inline plotting\n",
    "%matplotlib inline\n",
    "\n",
    "# Import seaborn\n",
    "...\n",
    "\n",
    "# Create the pairwise scatter plot \n",
    "..."
   ]
  },
  {
   "cell_type": "code",
   "execution_count": null,
   "metadata": {
    "collapsed": true,
    "tags": [
     "@solution"
    ]
   },
   "outputs": [],
   "source": [
    "# Create a correlation matrix\n",
    "corr_metrics = track_metrics.corr()\n",
    "print(corr_metrics)\n",
    "\n",
    "# Turn on inline plotting\n",
    "%matplotlib inline\n",
    "\n",
    "# Import seaborn\n",
    "import seaborn as sns\n",
    "\n",
    "# Create the pairwise scatter plot\n",
    "sns.pairplot(echo_tracks)"
   ]
  },
  {
   "cell_type": "code",
   "execution_count": null,
   "metadata": {
    "collapsed": true,
    "tags": [
     "@tests"
    ]
   },
   "outputs": [],
   "source": [
    "# This needs to be included at the beginning of every @tests cell.\n",
    "%%nose\n",
    "\n",
    "# One or more tests of the students code. \n",
    "# The @solution should pass the tests.\n",
    "# The purpose of the tests is to try to catch common errors and to \n",
    "# give the student a hint on how to resolve these errors.\n",
    "\n",
    "def test_example():\n",
    "    assert like_this == 'missing part filled in', \\\n",
    "    'The student will see this message if the test fails'"
   ]
  },
  {
   "cell_type": "markdown",
   "metadata": {
    "tags": [
     "type:NotebookTask"
    ]
   },
   "source": [
    "## 3. Normalizing the feature data"
   ]
  },
  {
   "cell_type": "markdown",
   "metadata": {
    "tags": [
     "@context"
    ]
   },
   "source": [
    "As mentioned earlier, it can be particularly useful to simplify our models and use as few features as necessary to achieve the best result. Since we didn't find any particular strong correlations between our features, we can instead use a common approach to reduce the number of features called **principal component analysis (PCA)**. \n",
    "\n",
    "It is possible that the variance between genres can be explained by just a few features in the data set. PCA rotates the data along the axis of highest variance, thus allowing us to determine the relative contribution of each feature of our data towards the variance between classes. \n",
    "\n",
    "However, since PCA uses the absolute variance of a feature to rotate the data, a feature with a broader range of values will overpower and bias the algorithm relative to the other features. To avoid this, we must first normalize our data. There are a few methods to do this, but a common way is through *standardization*, such that all features have a mean = 0 and standard deviation = 1 (the resultant is a z-score)."
   ]
  },
  {
   "cell_type": "markdown",
   "metadata": {
    "tags": [
     "@instructions"
    ]
   },
   "source": [
    "Prepare our dataset for training a model, and standardize the data.\n",
    "- Define our features from `echo_tracks` by removing `genre_top` and `track_id` from the DataFrame using `DataFrame.drop()` along axis 1.\n",
    "- Define our labels from `echo_tracks` which consist of only the `genre_top` column.\n",
    "\n",
    "<hr>\n",
    "\n",
    "Helpful links:\n",
    "- pandas `DataFrame.drop()` method [documentation](https://pandas.pydata.org/pandas-docs/stable/generated/pandas.DataFrame.drop.html)\n",
    "- Square brackets in Pandas [exercise](https://campus.datacamp.com/courses/intermediate-python-for-data-science/dictionaries-pandas?ex=15)"
   ]
  },
  {
   "cell_type": "markdown",
   "metadata": {
    "tags": [
     "@hint"
    ]
   },
   "source": [
    "Hints are meant for students who are stuck. Since students can't view solutions in Projects, clicking the hint button is their last resort. We often recommend including code scaffolding (example below).\n",
    "\n",
    "You can read `path_to/my_data.csv` into a DataFrame named `my_data` like this after importing the pandas library:\n",
    "\n",
    "```python\n",
    "import pandas as pd\n",
    "my_data = pd.read_csv(\"path_to/my_data.csv\")\n",
    "```"
   ]
  },
  {
   "cell_type": "code",
   "execution_count": null,
   "metadata": {
    "collapsed": true,
    "tags": [
     "@sample_code"
    ]
   },
   "outputs": [],
   "source": [
    "# Separate your features and labels \n",
    "features = ...\n",
    "labels = ...\n",
    "\n",
    "# Import the StandardScaler\n",
    "...\n",
    "\n",
    "# Scale the features and set the values to a new variable\n",
    "scaler = ...\n",
    "scaled_train_features = ..."
   ]
  },
  {
   "cell_type": "code",
   "execution_count": null,
   "metadata": {
    "tags": [
     "@solution"
    ]
   },
   "outputs": [],
   "source": [
    "# Define our features\n",
    "features = echo_tracks.drop(['genre_top', 'track_id'], axis=1) \n",
    "\n",
    "# Define our labels\n",
    "labels = echo_tracks['genre_top']\n",
    "\n",
    "# Import the StandardScaler\n",
    "from sklearn.preprocessing import StandardScaler\n",
    "\n",
    "# Scale the features and set the values to a new variable\n",
    "scaler = StandardScaler()\n",
    "scaled_train_features = scaler.fit_transform(features)\n"
   ]
  },
  {
   "cell_type": "code",
   "execution_count": null,
   "metadata": {
    "collapsed": true,
    "tags": [
     "@tests"
    ]
   },
   "outputs": [],
   "source": [
    "# This needs to be included at the beginning of every @tests cell.\n",
    "%%nose\n",
    "\n",
    "# One or more tests of the students code. \n",
    "# The @solution should pass the tests.\n",
    "# The purpose of the tests is to try to catch common errors and to \n",
    "# give the student a hint on how to resolve these errors.\n",
    "\n",
    "def test_example():\n",
    "    assert like_this == 'missing part filled in', \\\n",
    "    'The student will see this message if the test fails'"
   ]
  },
  {
   "cell_type": "markdown",
   "metadata": {
    "tags": [
     "type:NotebookTask"
    ]
   },
   "source": [
    "## 4. Principal Component Analysis on our scaled data"
   ]
  },
  {
   "cell_type": "markdown",
   "metadata": {
    "tags": [
     "@context"
    ]
   },
   "source": [
    "Now that we have preprocessed our data, we are ready to use PCA to determine by how much we can reduce the dimensionality of our data. We can use **scree-plots** and **cumulative explained ratio plots** to find the number of components to use in further analyses.\n",
    "\n",
    "Scree-plots display the number of components against the variance explained by each component, sorted in descending order of variance. Scree-plots help us get a better sense of which components explain a sufficient amount of variance in our data. When using scree plots, an 'elbow' (a steep drop from one data point to the next) in the plot is typically used to decide on an appropriate cutoff."
   ]
  },
  {
   "cell_type": "markdown",
   "metadata": {
    "tags": [
     "@instructions"
    ]
   },
   "source": [
    "Use PCA to determine the explained variance of our features\n",
    "- Import the `matplotlib.pyplot` module as `plt`, and our `PCA` function from `sklearn.decomposition`\n",
    "- create our PCA class using `PCA()`, fit the model on our `scaled_train_features` using PCA.fit(), and retrieve the explained variance ratio\n",
    "- make a bar plot of the explained variance ratio of each feature\n",
    "\n",
    "<hr>\n",
    "\n",
    "We run PCA on all our features at first, which is done by default if `n_components` is not specified.\n",
    "\n",
    "Helpful links:\n",
    "- sklearn PCA [documentation](http://scikit-learn.org/stable/modules/generated/sklearn.decomposition.PCA.html)\n",
    "- matplotlib `bar` plot [documentation](https://matplotlib.org/api/_as_gen/matplotlib.axes.Axes.bar.html)"
   ]
  },
  {
   "cell_type": "markdown",
   "metadata": {
    "tags": [
     "@hint"
    ]
   },
   "source": [
    "Hints are meant for students who are stuck. Since students can't view solutions in Projects, clicking the hint button is their last resort. We often recommend including code scaffolding (example below).\n",
    "\n",
    "You can read `path_to/my_data.csv` into a DataFrame named `my_data` like this after importing the pandas library:\n",
    "\n",
    "```python\n",
    "import pandas as pd\n",
    "my_data = pd.read_csv(\"path_to/my_data.csv\")\n",
    "```"
   ]
  },
  {
   "cell_type": "code",
   "execution_count": null,
   "metadata": {
    "collapsed": true,
    "tags": [
     "@sample_code"
    ]
   },
   "outputs": [],
   "source": [
    "# Import our plotting module, and PCA function\n",
    "#... YOUR CODE ...\n",
    "\n",
    "# Get our explained variance ratios from PCA using all features\n",
    "pca = ...\n",
    "...\n",
    "exp_variance = ...\n",
    "\n",
    "# plot the explained variance using a barplot\n",
    "fig, ax = plt.subplots()\n",
    "ax.bar(...)"
   ]
  },
  {
   "cell_type": "code",
   "execution_count": null,
   "metadata": {
    "collapsed": true,
    "tags": [
     "@solution"
    ]
   },
   "outputs": [],
   "source": [
    "# Import our plotting module, and PCA function\n",
    "import matplotlib.pyplot as plt\n",
    "from sklearn.decomposition import PCA\n",
    "\n",
    "# Get our explained variance ratios from PCA using all features\n",
    "pca = PCA()\n",
    "pca.fit(scaled_train_features)\n",
    "exp_variance = pca.explained_variance_ratio_\n",
    "\n",
    "# plot the explained variance using a barplot\n",
    "fig, ax = plt.subplots()\n",
    "ax.bar(range(pca.n_components_), exp_variance)"
   ]
  },
  {
   "cell_type": "code",
   "execution_count": null,
   "metadata": {
    "collapsed": true,
    "tags": [
     "@tests"
    ]
   },
   "outputs": [],
   "source": [
    "# This needs to be included at the beginning of every @tests cell.\n",
    "%%nose\n",
    "\n",
    "# One or more tests of the students code. \n",
    "# The @solution should pass the tests.\n",
    "# The purpose of the tests is to try to catch common errors and to \n",
    "# give the student a hint on how to resolve these errors.\n",
    "\n",
    "def test_example():\n",
    "    assert like_this == 'missing part filled in', \\\n",
    "    'The student will see this message if the test fails'"
   ]
  },
  {
   "cell_type": "markdown",
   "metadata": {
    "tags": [
     "type:NotebookTask"
    ]
   },
   "source": [
    "## 5. Further visualization of PCA"
   ]
  },
  {
   "cell_type": "markdown",
   "metadata": {
    "tags": [
     "@context"
    ]
   },
   "source": [
    "Unfortunately, there does not appear to be a clear elbow in this scree plot, which means it is not straightforward to find the number of intrinsic dimensions using this method. \n",
    "\n",
    "But all is not lost! Instead, we can also look at the **cumulative explained variance plot** to determine how many features are required to explain, say, about 90% of the variance (cutoffs are somewhat arbitrary here, and usually decided upon by 'rules of thumb'). Once we determine the appropriate number of components, we can perform PCA with that many components, ideally reducing the dimensionality of our data."
   ]
  },
  {
   "cell_type": "markdown",
   "metadata": {
    "tags": [
     "@instructions"
    ]
   },
   "source": [
    "Plot the cumulative explained variance of our PCA.\n",
    "- Import the `numpy` library as `np`.\n",
    "- Calculate the cumulative sums of our explained variance using `np.cumsum()`.\n",
    "- Plot the cumulative explained variances using `ax.plot` and look for the number of components at which we can account for >90% of our variance; assign this to `n_components`.\n",
    "- Perform PCA using `n_components` and project our data onto these components.\n",
    "\n",
    "<hr>\n",
    "\n",
    "Helpful links:\n",
    "- numpy `cumsum()` function [documentation](https://docs.scipy.org/doc/numpy/reference/generated/numpy.cumsum.html)\n",
    "- sklearn PCA [documentation](http://scikit-learn.org/stable/modules/generated/sklearn.decomposition.PCA.html)"
   ]
  },
  {
   "cell_type": "markdown",
   "metadata": {
    "tags": [
     "@hint"
    ]
   },
   "source": [
    "Hints are meant for students who are stuck. Since students can't view solutions in Projects, clicking the hint button is their last resort. We often recommend including code scaffolding (example below).\n",
    "\n",
    "You can read `path_to/my_data.csv` into a DataFrame named `my_data` like this after importing the pandas library:\n",
    "\n",
    "```python\n",
    "import pandas as pd\n",
    "my_data = pd.read_csv(\"path_to/my_data.csv\")\n",
    "```"
   ]
  },
  {
   "cell_type": "code",
   "execution_count": null,
   "metadata": {
    "collapsed": true,
    "tags": [
     "@sample_code"
    ]
   },
   "outputs": [],
   "source": [
    "import numpy as np\n",
    "\n",
    "# Calculate the cumulative explained variance\n",
    "cum_exp_variance = ...\n",
    "\n",
    "# Plot the cumulative explained variance and draw a dashed line at 0.90.\n",
    "fig, ax = plt.subplots()\n",
    "...\n",
    "ax.axhline(y=0.9, linestyle='--')\n",
    "n_components = ...\n",
    "\n",
    "# Perform PCA with the chosen number of components and project data onto components\n",
    "pca = PCA(n_components)\n",
    "pca.fit(scaled_train_features)\n",
    "projection = ..."
   ]
  },
  {
   "cell_type": "code",
   "execution_count": null,
   "metadata": {
    "collapsed": true,
    "tags": [
     "@solution"
    ]
   },
   "outputs": [],
   "source": [
    "import numpy as np\n",
    "\n",
    "# Calculate the cumulative explained variance\n",
    "cum_exp_variance = np.cumsum(exp_variance)\n",
    "\n",
    "fig, ax = plt.subplots()\n",
    "ax.plot(cum_exp_variance)\n",
    "ax.axhline(y=0.9, linestyle='--')\n",
    "n_components = 6\n",
    "\n",
    "# Perform PCA with the chosen number of components and project data onto components\n",
    "pca = PCA(n_components)\n",
    "pca.fit(scaled_train_features)\n",
    "projection = pca.transform(scaled_train_features)"
   ]
  },
  {
   "cell_type": "code",
   "execution_count": null,
   "metadata": {
    "collapsed": true,
    "tags": [
     "@tests"
    ]
   },
   "outputs": [],
   "source": [
    "# This needs to be included at the beginning of every @tests cell.\n",
    "%%nose\n",
    "\n",
    "# One or more tests of the students code. \n",
    "# The @solution should pass the tests.\n",
    "# The purpose of the tests is to try to catch common errors and to \n",
    "# give the student a hint on how to resolve these errors.\n",
    "\n",
    "def test_example():\n",
    "    assert like_this == 'missing part filled in', \\\n",
    "    'The student will see this message if the test fails'"
   ]
  },
  {
   "cell_type": "markdown",
   "metadata": {
    "tags": [
     "type:NotebookTask"
    ]
   },
   "source": [
    "## 6. Train a decision tree to classify genre"
   ]
  },
  {
   "cell_type": "markdown",
   "metadata": {
    "tags": [
     "@context"
    ]
   },
   "source": [
    "Now that we have reduced the dimensionality of our dataset, we can start classifying our data. In order to do that, we first need to split our dataset into 'train' and 'test' subsets, where the 'train' subset will be used to train our model while the 'test' dataset allows for model performance validation.\n",
    "\n",
    "Here, we will be using a simple algorithm known as a decision tree. Decision trees are rule-based classifiers that take in features and follow a 'tree structure' of binary decisions to ultimately classify a data point into one of two or more categories. In addition to being easy to both use and interpret, decision trees allow us to visualize the 'logic flowchart' that the model generates from the training data.\n",
    "\n",
    "**PICTURE**\n"
   ]
  },
  {
   "cell_type": "markdown",
   "metadata": {
    "tags": [
     "@instructions"
    ]
   },
   "source": [
    "Prepare our training and test sets and train our first classifier.\n",
    "- Import the `train_test_split` function from `sklearn.model_selection` library\n",
    "- Split our projected data into train and test, features and labels, respectively using `train_test_split()`.\n",
    "- Create our decision tree classifier using DecisionTreeClassifier() and a random state of `10` and train the model using the `model.fit()` notation\n",
    "- Find the predicted labels from our trained model using the `model.predict()` notation.\n",
    "\n",
    "<hr>\n",
    "\n",
    "Helpful links:\n",
    "- scikit-learn `train_test_split()` function [documentation](http://scikit-learn.org/stable/modules/generated/sklearn.model_selection.train_test_split.html)\n",
    "- scikit-learn `DecisionTreeClassifier()` class [documentation](http://scikit-learn.org/stable/modules/generated/sklearn.tree.DecisionTreeClassifier.html)"
   ]
  },
  {
   "cell_type": "markdown",
   "metadata": {
    "tags": [
     "@hint"
    ]
   },
   "source": [
    "Hints are meant for students who are stuck. Since students can't view solutions in Projects, clicking the hint button is their last resort. We often recommend including code scaffolding (example below).\n",
    "\n",
    "You can read `path_to/my_data.csv` into a DataFrame named `my_data` like this after importing the pandas library:\n",
    "\n",
    "```python\n",
    "import pandas as pd\n",
    "my_data = pd.read_csv(\"path_to/my_data.csv\")\n",
    "```"
   ]
  },
  {
   "cell_type": "code",
   "execution_count": null,
   "metadata": {
    "collapsed": true,
    "tags": [
     "@sample_code"
    ]
   },
   "outputs": [],
   "source": [
    "# Import train_test_split function and Decision tree classifier\n",
    "# ... YOUR CODE ...\n",
    "\n",
    "# Split our data\n",
    "train_features, test_features, train_labels, test_labels = ...\n",
    "\n",
    "# Train our decision tree\n",
    "tree = ...\n",
    "...\n",
    "\n",
    "# Predict the labels for the test data\n",
    "pred_labels_tree = ..."
   ]
  },
  {
   "cell_type": "code",
   "execution_count": null,
   "metadata": {
    "collapsed": true,
    "tags": [
     "@solution"
    ]
   },
   "outputs": [],
   "source": [
    "# Import train_test_split function and Decision tree classifier\n",
    "from sklearn.model_selection import train_test_split\n",
    "from sklearn.tree import DecisionTreeClassifier\n",
    "\n",
    "# Split our data\n",
    "train_features, test_features, train_labels, test_labels = train_test_split(\n",
    "    projection, labels, random_state=10)\n",
    "\n",
    "# Train our decision tree\n",
    "tree = DecisionTreeClassifier(random_state=10)\n",
    "tree.fit(train_features, train_labels)\n",
    "\n",
    "# Predict the labels for the test data\n",
    "pred_labels_tree = tree.predict(test_features)"
   ]
  },
  {
   "cell_type": "code",
   "execution_count": null,
   "metadata": {
    "collapsed": true,
    "tags": [
     "@tests"
    ]
   },
   "outputs": [],
   "source": [
    "# This needs to be included at the beginning of every @tests cell.\n",
    "%%nose\n",
    "\n",
    "# One or more tests of the students code. \n",
    "# The @solution should pass the tests.\n",
    "# The purpose of the tests is to try to catch common errors and to \n",
    "# give the student a hint on how to resolve these errors.\n",
    "\n",
    "def test_example():\n",
    "    assert like_this == 'missing part filled in', \\\n",
    "    'The student will see this message if the test fails'"
   ]
  },
  {
   "cell_type": "markdown",
   "metadata": {
    "tags": [
     "type:NotebookTask"
    ]
   },
   "source": [
    "## 7. Compare our decision tree to a logistic regression"
   ]
  },
  {
   "cell_type": "markdown",
   "metadata": {
    "tags": [
     "@context"
    ]
   },
   "source": [
    "Although our tree's performance is decent, it's a bad idea to immediately assume that it's therefore the perfect tool for this job -- there's always the possibility of other models that will perform even better! It's always a worthwhile idea to at least test a few other algorithms and find the one that's best for our data.\n",
    "\n",
    "Sometimes simplest is best, and so we will start by applying **logistic regression**. Logistic regression makes use of what's called the logistic function to calculate the odds that a given data point belongs to a given class. Once we have both models, we can compare them on a few performance metrics, such as false positive and false negative rate (or how many points are inaccurately classified). "
   ]
  },
  {
   "cell_type": "markdown",
   "metadata": {
    "tags": [
     "@instructions"
    ]
   },
   "source": [
    "Train our logistic regression and compare the performance with our decision tree\n",
    "- Create our logistic regression model using LogisticRegression() and a random state of `10`.\n",
    "- Train the model using the `model.fit()` notation and assign the predicted labels for the `test_features` to `pred_labels_logit`.\n",
    "- Print the classification report for our trained Decision Tree and Logistic Regression models. \n",
    "\n",
    "<hr>\n",
    "\n",
    "Helpful links:\n",
    "- pandas `read_csv()` function [documentation](https://pandas.pydata.org/pandas-docs/stable/generated/pandas.read_csv.html)\n",
    "- Reading a flat file [exercise](https://campus.datacamp.com/courses/pandas-foundations/data-ingestion-inspection?ex=10) in the pandas Foundations course"
   ]
  },
  {
   "cell_type": "markdown",
   "metadata": {
    "tags": [
     "@hint"
    ]
   },
   "source": [
    "Hints are meant for students who are stuck. Since students can't view solutions in Projects, clicking the hint button is their last resort. We often recommend including code scaffolding (example below).\n",
    "\n",
    "You can read `path_to/my_data.csv` into a DataFrame named `my_data` like this after importing the pandas library:\n",
    "\n",
    "```python\n",
    "import pandas as pd\n",
    "my_data = pd.read_csv(\"path_to/my_data.csv\")\n",
    "```"
   ]
  },
  {
   "cell_type": "code",
   "execution_count": null,
   "metadata": {
    "collapsed": true,
    "tags": [
     "@sample_code"
    ]
   },
   "outputs": [],
   "source": [
    "# Import LogisticRegression\n",
    "from sklearn.linear_model import LogisticRegression\n",
    "\n",
    "# Train our logisitic regression and predict labels for the test set\n",
    "logreg = ...\n",
    "pred_labels_logit = ...\n",
    "\n",
    "# Compare the models using classification_report\n",
    "from sklearn.metrics import classification_report\n",
    "\n",
    "# Create the classification report for the tree based model\n",
    "class_rep_tree = ...\n",
    "\n",
    "# Create the classification report for the logistic regression model\n",
    "class_rep_log = ...\n",
    "\n",
    "print(\"Decision Tree: \\n\", class_rep_tree)\n",
    "print(\"Logistic Regression: \\n\", class_rep_log"
   ]
  },
  {
   "cell_type": "code",
   "execution_count": null,
   "metadata": {
    "collapsed": true,
    "tags": [
     "@solution"
    ]
   },
   "outputs": [],
   "source": [
    "# Import LogisticRegression\n",
    "from sklearn.linear_model import LogisticRegression\n",
    "\n",
    "# Train our logisitic regression\n",
    "logreg = LogisticRegression(random_state=10)\n",
    "logreg.fit(train_features, train_labels)\n",
    "pred_labels_logit = logreg.predict(test_features)\n",
    "\n",
    "# Compare the models\n",
    "from sklearn.metrics import classification_report\n",
    "class_rep_tree = classification_report(test_labels, pred_labels_tree))\n",
    "class_rep_log = classification_report(test_labels, pred_labels_logit))\n",
    "print(\"Decision Tree: \\n\", class_rep_tree)\n",
    "print(\"Logistic Regression: \\n\", class_rep_log"
   ]
  },
  {
   "cell_type": "code",
   "execution_count": null,
   "metadata": {
    "collapsed": true,
    "tags": [
     "@tests"
    ]
   },
   "outputs": [],
   "source": [
    "# This needs to be included at the beginning of every @tests cell.\n",
    "%%nose\n",
    "\n",
    "# One or more tests of the students code. \n",
    "# The @solution should pass the tests.\n",
    "# The purpose of the tests is to try to catch common errors and to \n",
    "# give the student a hint on how to resolve these errors.\n",
    "\n",
    "def test_example():\n",
    "    assert like_this == 'missing part filled in', \\\n",
    "    'The student will see this message if the test fails'"
   ]
  },
  {
   "cell_type": "markdown",
   "metadata": {
    "tags": [
     "type:NotebookTask"
    ]
   },
   "source": [
    "## 8. Balance our data for greater performance"
   ]
  },
  {
   "cell_type": "markdown",
   "metadata": {
    "tags": [
     "@context"
    ]
   },
   "source": [
    "Both our models do similarly well, boasting 87% precision each. However, looking at our classification report, we can see that rock songs are fairly well classified, but hip hop songs are disproportionately misclassified as rock songs. \n",
    "\n",
    "Why might this be the case? Well, just by looking at the number of data points we have for each class, we see that we have far more data points for the rock classification than for hip hop, potentially skewing our model's ability to distinguish between classes. This also tells us that most of our model's accuracy is driven by its ability to classify just rock songs, which is less than ideal.\n",
    "\n",
    "To account for this, we can weight the value of a correct classification in each class inversely to the occurrence of data points for each class. Since a correct classification for \"Rock\" is not more important than a correct classification for \"Hip-Hop\" (and vice versa), we only need to account for differences in _sample size_ of our data points when weighting our classes here, and not relative importance of each class. "
   ]
  },
  {
   "cell_type": "markdown",
   "metadata": {
    "tags": [
     "@instructions"
    ]
   },
   "source": [
    "Balance our dataset such that the number of tracks for each genre are the same.\n",
    "- subset only the hip-hop tracks from `echo_tracks` using df.loc[], and the same for the rock tracks\n",
    "- sample `rock_only` such that there are the same number of data points as there are hip-hop data points\n",
    "\n",
    "<hr>\n",
    "\n",
    "Helpful links:\n",
    "- pandas `DataFrame.loc[]` slicing [documentation](https://pandas.pydata.org/pandas-docs/stable/generated/pandas.DataFrame.loc.html)\n",
    "- pandas `merge()` function [documentation](https://pandas.pydata.org/pandas-docs/stable/generated/pandas.merge.html#pandas.merge)\n",
    "- pandas `DataFrame.sample()` method [documentation](https://pandas.pydata.org/pandas-docs/stable/generated/pandas.DataFrame.sample.html)"
   ]
  },
  {
   "cell_type": "markdown",
   "metadata": {
    "tags": [
     "@hint"
    ]
   },
   "source": [
    "Hints are meant for students who are stuck. Since students can't view solutions in Projects, clicking the hint button is their last resort. We often recommend including code scaffolding (example below).\n",
    "\n",
    "You can read `path_to/my_data.csv` into a DataFrame named `my_data` like this after importing the pandas library:\n",
    "\n",
    "```python\n",
    "import pandas as pd\n",
    "my_data = pd.read_csv(\"path_to/my_data.csv\")\n",
    "```"
   ]
  },
  {
   "cell_type": "code",
   "execution_count": null,
   "metadata": {
    "tags": [
     "@sample_code"
    ]
   },
   "outputs": [],
   "source": [
    "# Subset only the hip-hop tracks, and then only the rock tracks\n",
    "hop_only = ...\n",
    "rock_only = ...\n",
    "\n",
    "# sample the rocks songs to be the same number as there are hip-hop songs\n",
    "rock_only = ...\n",
    "\n",
    "# concatenate the dataframes hop_only and rock_only\n",
    "rock_hop_bal = ...\n",
    "\n",
    "# Redefine our train, test sets\n",
    "features, labels = rock_hop_bal.drop(['genre_top', 'track_id'], axis=1), rock_hop_bal['genre_top']\n",
    "train_features, test_features, train_labels, test_labels = train_test_split(...)"
   ]
  },
  {
   "cell_type": "code",
   "execution_count": null,
   "metadata": {
    "collapsed": true,
    "tags": [
     "@solution"
    ]
   },
   "outputs": [],
   "source": [
    "# Subset a balanced proportion of data points\n",
    "hop_only = echo_tracks.loc[echo_tracks['genre_top'] == 'Hip-Hop']\n",
    "\n",
    "# subset only the rock songs, and take a sample the same size as there are hip-hop songs\n",
    "rock_only = echo_tracks.loc[echo_tracks['genre_top'] == 'Rock'].sample(hop_only.shape[0])\n",
    "\n",
    "# concatenate the dataframes hop_only and rock_only\n",
    "rock_hop_bal = pd.concat([rock_only, hop_only])\n",
    "\n",
    "# Redefine our train, test sets\n",
    "features = rock_hop_bal.drop(['genre_top', 'track_id'], axis=1) \n",
    "labels = rock_hop_bal['genre_top']\n",
    "train_features, test_features, train_labels, test_labels = train_test_split(\n",
    "    features, labels, random_state=10)"
   ]
  },
  {
   "cell_type": "code",
   "execution_count": null,
   "metadata": {
    "collapsed": true,
    "tags": [
     "@tests"
    ]
   },
   "outputs": [],
   "source": [
    "# This needs to be included at the beginning of every @tests cell.\n",
    "%%nose\n",
    "\n",
    "# One or more tests of the students code. \n",
    "# The @solution should pass the tests.\n",
    "# The purpose of the tests is to try to catch common errors and to \n",
    "# give the student a hint on how to resolve these errors.\n",
    "\n",
    "def test_example():\n",
    "    assert like_this == 'missing part filled in', \\\n",
    "    'The student will see this message if the test fails'"
   ]
  },
  {
   "cell_type": "markdown",
   "metadata": {
    "tags": [
     "type:NotebookTask"
    ]
   },
   "source": [
    "## 9. Confirm whether balancing our dataset improves our model bias"
   ]
  },
  {
   "cell_type": "markdown",
   "metadata": {
    "tags": [
     "@context"
    ]
   },
   "source": [
    "We've now balanced our dataset, but in doing so, we've removed a lot of data points that might have been crucial to training our models. Let's test to see if balancing our data improves model bias towards the \"Rock\" classification while retaining overall classification performance. \n",
    "\n",
    "Note that we have already reduced the size of our dataset and will go forward without applying any dimensionality reduction. In practice, we would consider dimensionality reduction more rigorously when dealing with vastly large datasets and when computation times become prohibitively large."
   ]
  },
  {
   "cell_type": "markdown",
   "metadata": {
    "tags": [
     "@instructions"
    ]
   },
   "source": [
    "Compare the two model performances on the balanced data.\n",
    "- Create and train your decision tree using `DecisionTreeClassifier()` and a random state of `10`, then predict on the `test_features`.\n",
    "- Create and train your logistic regression using `LogisticRegression()` and a random state of `10`, then predict on the `test_features`.\n",
    "- Compare the performance of the two models using `classification_report()`. \n",
    "\n",
    "<hr>\n"
   ]
  },
  {
   "cell_type": "markdown",
   "metadata": {
    "tags": [
     "@hint"
    ]
   },
   "source": [
    "Hints are meant for students who are stuck. Since students can't view solutions in Projects, clicking the hint button is their last resort. We often recommend including code scaffolding (example below).\n",
    "\n",
    "You can read `path_to/my_data.csv` into a DataFrame named `my_data` like this after importing the pandas library:\n",
    "\n",
    "```python\n",
    "import pandas as pd\n",
    "my_data = pd.read_csv(\"path_to/my_data.csv\")\n",
    "```"
   ]
  },
  {
   "cell_type": "code",
   "execution_count": null,
   "metadata": {
    "collapsed": true,
    "tags": [
     "@sample_code"
    ]
   },
   "outputs": [],
   "source": [
    "# Train our decision tree on the balanced data\n",
    "tree = ...\n",
    "...\n",
    "pred_labels_tree = ...\n",
    "\n",
    "# Train our logistic regression on the balanced data\n",
    "logreg = ...\n",
    "...\n",
    "pred_labels_logit = ...\n",
    "\n",
    "# compare the models\n",
    "print(\"Decision Tree: \\n\", classification_report(...))\n",
    "print(\"Logistic Regression: \\n\", classification_report(...))"
   ]
  },
  {
   "cell_type": "code",
   "execution_count": null,
   "metadata": {
    "collapsed": true,
    "tags": [
     "@solution"
    ]
   },
   "outputs": [],
   "source": [
    "# Train our decision tree on the balanced data\n",
    "tree = DecisionTreeClassifier(random_state=10)\n",
    "tree.fit(train_features, train_labels)\n",
    "pred_labels_tree = tree.predict(test_features)\n",
    "\n",
    "# Train our logistic regression on the balanced data\n",
    "logreg = LogisticRegression(random_state=10)\n",
    "logreg.fit(train_features, train_labels)\n",
    "pred_labels_logit = logreg.predict(test_features)\n",
    "\n",
    "# compare the models\n",
    "print(\"Decision Tree: \\n\", classification_report(test_labels, pred_labels_tree))\n",
    "print(\"Logistic Regression: \\n\", classification_report(test_labels, pred_labels_logit))"
   ]
  },
  {
   "cell_type": "code",
   "execution_count": null,
   "metadata": {
    "collapsed": true,
    "tags": [
     "@tests"
    ]
   },
   "outputs": [],
   "source": [
    "# This needs to be included at the beginning of every @tests cell.\n",
    "%%nose\n",
    "\n",
    "# One or more tests of the students code. \n",
    "# The @solution should pass the tests.\n",
    "# The purpose of the tests is to try to catch common errors and to \n",
    "# give the student a hint on how to resolve these errors.\n",
    "\n",
    "def test_example():\n",
    "    assert like_this == 'missing part filled in', \\\n",
    "    'The student will see this message if the test fails'"
   ]
  },
  {
   "cell_type": "markdown",
   "metadata": {
    "tags": [
     "type:NotebookTask"
    ]
   },
   "source": [
    "## 10. Using cross-validation to evaluate our models"
   ]
  },
  {
   "cell_type": "markdown",
   "metadata": {
    "tags": [
     "@context"
    ]
   },
   "source": [
    "Success! Balancing our data has removed bias towards the more prevalent class. To get a good sense of how well our models are actually performing, we can apply what's called **cross-validation** (CV). This step allows us to compare models in a more rigorous fashion.\n",
    "\n",
    "Since the way our data is split into train and test sets can impact model performance, CV attempts to split the data multiple ways and test the model on each of the splits. Although there are many different CV methods, all with their own advantages and disadvantages, we will use what's known as **K-fold** CV here. K-fold first splits the data in K different, equally sized subsets. Then, it iteratively uses each subset as a test set while using the remainder of the data as train sets. Finally, we can then aggregate the results from each fold for a final model performance score."
   ]
  },
  {
   "cell_type": "markdown",
   "metadata": {
    "tags": [
     "@instructions"
    ]
   },
   "source": [
    "Use cross-validation to get a better sense of your model performance.\n",
    "- Create your cv using `KFold()` with `10` folds and a random state of `7`.\n",
    "- Train each of your models using `cross_val_score()`.\n",
    "- Print the mean of the cross validation scores for each model using `np.mean()`.\n",
    "\n",
    "<hr>\n",
    "\n",
    "Helpful links:\n",
    "- `KFold()` [documentation](http://scikit-learn.org/stable/modules/generated/sklearn.model_selection.KFold.html)\n",
    "- `cross_val_score()` [documentation](http://scikit-learn.org/stable/modules/generated/sklearn.model_selection.cross_val_score.html#sklearn.model_selection.cross_val_score)"
   ]
  },
  {
   "cell_type": "markdown",
   "metadata": {
    "tags": [
     "@hint"
    ]
   },
   "source": [
    "Hints are meant for students who are stuck. Since students can't view solutions in Projects, clicking the hint button is their last resort. We often recommend including code scaffolding (example below).\n",
    "\n",
    "You can read `path_to/my_data.csv` into a DataFrame named `my_data` like this after importing the pandas library:\n",
    "\n",
    "```python\n",
    "import pandas as pd\n",
    "my_data = pd.read_csv(\"path_to/my_data.csv\")\n",
    "```"
   ]
  },
  {
   "cell_type": "code",
   "execution_count": null,
   "metadata": {
    "collapsed": true,
    "tags": [
     "@sample_code"
    ]
   },
   "outputs": [],
   "source": [
    "from sklearn.model_selection import KFold, cross_val_score\n",
    "\n",
    "# Set up our K-fold cross-validation\n",
    "...\n",
    "\n",
    "\n",
    "tree = DecisionTreeClassifier(random_state=10)\n",
    "logreg = LogisticRegression(random_state=10)\n",
    "\n",
    "# Train our models using KFold cv\n",
    "tree_score = ...\n",
    "logit_score = ...\n",
    "\n",
    "# print the mean of each array of scores\n",
    "print(\"Decision Tree:\", ..., \"Logistic Regression:\", ...)"
   ]
  },
  {
   "cell_type": "code",
   "execution_count": null,
   "metadata": {
    "collapsed": true,
    "tags": [
     "@solution"
    ]
   },
   "outputs": [],
   "source": [
    "from sklearn.model_selection import KFold, cross_val_score\n",
    "\n",
    "# Set up our K-fold cross-validation\n",
    "kf = KFold(10, random_state=10)\n",
    "\n",
    "tree = DecisionTreeClassifier(random_state=10)\n",
    "logreg = LogisticRegression(random_state=10)\n",
    "\n",
    "# Train our models using KFold cv\n",
    "tree_score = cross_val_score(tree, features, labels, cv=kf)\n",
    "logit_score = cross_val_score(logreg, features, labels, cv=kf)\n",
    "\n",
    "print(\"Decision Tree:\", np.mean(tree_score), \"Logistic Regression:\", np.mean(logit_score))"
   ]
  },
  {
   "cell_type": "code",
   "execution_count": null,
   "metadata": {
    "collapsed": true,
    "tags": [
     "@tests"
    ]
   },
   "outputs": [],
   "source": [
    "# This needs to be included at the beginning of every @tests cell.\n",
    "%%nose\n",
    "\n",
    "# One or more tests of the students code. \n",
    "# The @solution should pass the tests.\n",
    "# The purpose of the tests is to try to catch common errors and to \n",
    "# give the student a hint on how to resolve these errors.\n",
    "\n",
    "def test_example():\n",
    "    assert like_this == 'missing part filled in', \\\n",
    "    'The student will see this message if the test fails'"
   ]
  },
  {
   "cell_type": "markdown",
   "metadata": {},
   "source": [
    "*The recommended number of tasks in a DataCamp Project is between 8 and 10, so feel free to add more if necessary. You can't have more than 12 tasks.*"
   ]
  }
 ],
 "metadata": {
  "anaconda-cloud": {},
  "celltoolbar": "Tags",
  "kernelspec": {
   "display_name": "Python [conda env:py3]",
   "language": "python",
   "name": "conda-env-py3-py"
  },
  "language_info": {
   "codemirror_mode": {
    "name": "ipython",
    "version": 3
   },
   "file_extension": ".py",
   "mimetype": "text/x-python",
   "name": "python",
   "nbconvert_exporter": "python",
   "pygments_lexer": "ipython3",
   "version": "3.5.4"
  }
 },
 "nbformat": 4,
 "nbformat_minor": 2
}
