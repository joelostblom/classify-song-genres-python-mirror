{
 "cells": [
  {
   "cell_type": "markdown",
   "metadata": {},
   "source": [
    "# Classifying Song Genres"
   ]
  },
  {
   "cell_type": "code",
   "execution_count": null,
   "metadata": {},
   "outputs": [],
   "source": [
    "# This is a code cell without any tag. You can put convenience code here,\n",
    "# but it won't be included in any way in the final project.\n",
    "# For example, to be able to run tests locally in the notebook\n",
    "# you need to install the following:\n",
    "# pip install nose\n",
    "# pip install git+https://github.com/datacamp/ipython_nose\n",
    "# and then load in the ipython_nose extension like this:\n",
    "%load_ext ipython_nose"
   ]
  },
  {
   "cell_type": "markdown",
   "metadata": {
    "tags": [
     "type:NotebookTask"
    ]
   },
   "source": [
    "## 1. Preparing our dataset"
   ]
  },
  {
   "cell_type": "markdown",
   "metadata": {
    "tags": [
     "@context"
    ]
   },
   "source": [
    "_These recommendations are so on point! How does this playlist know me so well?_\n",
    "\n",
    "<img src=\"https://c1.staticflickr.com/1/449/18060892884_133c05a691_b.jpg\" alt=\"Project Image Record\" width=\"600px\"/>\n",
    "\n",
    "Over the past few years, streaming services with huge catalogues have become the primary means through which most people listen to their favourite music. But at the same time, the sheer amount of music on offer can mean users might be a bit overwhelmed when trying to look for newer music that suits their tastes.\n",
    "\n",
    "For this reason, streaming services have looked into means of categorizing music to allow for personalized recommendations. One method involves direct analysis of the raw audio information in a given song, scoring the raw data on a variety of metrics. Today, we'll be examining data compiled by a research group known as The Echo Nest. Our goal is to look through this dataset and classify songs as being either 'Hip-Hop' or 'Rock' - all without listening to a single one ourselves. In doing so, we will learn how to clean our data, do some exploratory data visualization, and use feature reduction towards the goal of feeding our data through some simple machine learning algorithms, such as decision trees and logistic regression.\n",
    "\n",
    "To begin with, let's load the metadata about our tracks alongside the track metrics compiled by The Echo Nest. A song is about more than its title, artist, and number of listens. We have another dataset that has musical features of each track such as `danceability` and `acousticness` on a scale from -1 to 1. These exist in two different files, which are in different formats - csv and json. While csv is a popular file format for denoting tabular data, json is another common file format in which databases often return the results of a given query.\n",
    "\n",
    "Let's start by creating two pandas `DataFrames` out of these files that we can merge so we have labels and features for the classification later on."
   ]
  },
  {
   "cell_type": "markdown",
   "metadata": {
    "tags": [
     "@instructions"
    ]
   },
   "source": [
    "Read in the data using `pandas` and merge the DataFrames into one usable dataset.\n",
    "\n",
    "- Read in the .csv with the track metadata and name the DataFrame `tracks`.\n",
    "- Read in the .json with the track acoustic metrics and name the DataFrame `track_metrics`.\n",
    "- Merge the DataFrames on matching `track_id` values. Only retain the `track_id` and `genre_top` columns of `tracks`. \n",
    "- Inspect the DataFrame using the `.info()` method.\n",
    "\n",
    "<hr>\n",
    "\n",
    "## Good to know\n",
    "\n",
    "This Project lets you apply what you learned in [Supervised learning with scikit-learn](https://www.datacamp.com/courses/supervised-learning-with-scikit-learn) and learn some new skills as well, including data preprocessing, dimensionality reduction and machine learning using the `scikit-learn` package. We recommend you take those courses before starting this Project.\n",
    "\n",
    "Helpful links:\n",
    "- Documentation for pandas [`read_csv()`](), [`read_json()`]() and [`pd.merge()`]() functions\n",
    "- Variance of the PCA features [exercise](https://campus.datacamp.com/courses/unsupervised-learning-in-python/decorrelating-your-data-and-dimension-reduction?ex=7)\n",
    "- Train/test/split + Fit/Predict/Accuracy [exercise](https://campus.datacamp.com/courses/supervised-learning-with-scikit-learn/classification?ex=11)"
   ]
  },
  {
   "cell_type": "markdown",
   "metadata": {
    "tags": [
     "@hint"
    ]
   },
   "source": [
    "Hints are meant for students who are stuck. Since students can't view solutions in Projects, clicking the hint button is their last resort. We often recommend including code scaffolding (example below).\n",
    "\n",
    "You can read `path_to/my_data.csv` into a DataFrame named `my_data` like this after importing the pandas library:\n",
    "\n",
    "```python\n",
    "import pandas as pd\n",
    "my_data = pd.read_csv(\"path_to/my_data.csv\")\n",
    "```"
   ]
  },
  {
   "cell_type": "code",
   "execution_count": null,
   "metadata": {
    "tags": [
     "@sample_code"
    ]
   },
   "outputs": [],
   "source": [
    "import pandas as pd\n",
    "\n",
    "# Read in track metadata with genre labels\n",
    "tracks = ...\n",
    "\n",
    "# Read in track metrics with the features\n",
    "track_metrics = ...\n",
    "\n",
    "# Merge the relevant columns of tracks and track_metrics\n",
    "echo_tracks = ...\n",
    "\n",
    "# Inspect the resultant dataframe\n",
    "..."
   ]
  },
  {
   "cell_type": "code",
   "execution_count": null,
   "metadata": {
    "tags": [
     "@solution"
    ]
   },
   "outputs": [],
   "source": [
    "import pandas as pd\n",
    "\n",
    "# Read in track metadata with genre labels\n",
    "tracks = pd.read_csv('datasets/fma-rock-vs-hiphop.csv')\n",
    "\n",
    "# Read in track metrics with the features\n",
    "track_metrics = pd.read_json('datasets/echonest-clean.json', precise_float=True)\n",
    "\n",
    "# Merge the relevant columns of tracks and track_metrics\n",
    "echo_tracks = pd.merge(track_metrics, tracks[['genre_top', 'track_id']], on='track_id')\n",
    "\n",
    "# Inspect the resultant dataframe\n",
    "echo_tracks.info()"
   ]
  },
  {
   "cell_type": "code",
   "execution_count": null,
   "metadata": {
    "tags": [
     "@tests"
    ]
   },
   "outputs": [],
   "source": [
    "%%nose\n",
    "\n",
    "# One or more tests of the students code.\n",
    "# The @solution should pass the tests.\n",
    "# The purpose of the tests is to try to catch common errors and to \n",
    "# give the student a hint on how to resolve these errors.\n",
    "\n",
    "def test_tracks_read():\n",
    "    assert tracks.shape == (17734, 21), \\\n",
    "        'The csv file should be read in using the equivalent pandas method.'\n",
    "\n",
    "def test_metrics_read():\n",
    "    assert track_metrics.shape == (13129, 9), \\\n",
    "        'The json file should be read in using the equivalent pandas method.'\n",
    "        \n",
    "def test_merged_shape():\n",
    "    assert echo_tracks.shape == (4802, 10), \\\n",
    "        'The two datasets should be merged on matching track_id values.'"
   ]
  },
  {
   "cell_type": "markdown",
   "metadata": {
    "tags": [
     "type:NotebookTask"
    ]
   },
   "source": [
    "## 2. Exploring pairwise relationships between continuous variables"
   ]
  },
  {
   "cell_type": "markdown",
   "metadata": {
    "tags": [
     "@context"
    ]
   },
   "source": [
    "We typically want to avoid using variables that have strong correlations with each other -- hence avoiding feature redundancy -- for a few reasons:\n",
    "- To keep the model simple and improve interpretability (with many features, we run the risk of overfitting).\n",
    "- When our datasets are very large, using fewer features can drastically speed up our computation time.\n",
    "\n",
    "To get a sense of whether there are any strongly correlated features in our data, we will use simple built-in functions in the `pandas` and `seaborn` packages. "
   ]
  },
  {
   "cell_type": "markdown",
   "metadata": {
    "tags": [
     "@instructions"
    ]
   },
   "source": [
    "Explore correlations in our dataset using pandas `corr` function and seaborn `pairplot`.\n",
    "- See if there are any strong correlations in the correlation table generated from `DataFrame.corr()`.\n",
    "- Import the `seaborn` library as `sns`.\n",
    "- Visualize the correlations using a pairwise scatter plot with `sns.pairplot()`.\n",
    "\n",
    "<hr>\n",
    "\n",
    "Helpful links:\n",
    "- seaborn `pairplot` function [documentation](https://seaborn.pydata.org/generated/seaborn.pairplot.html)"
   ]
  },
  {
   "cell_type": "markdown",
   "metadata": {
    "tags": [
     "@hint"
    ]
   },
   "source": [
    "Hints are meant for students who are stuck. Since students can't view solutions in Projects, clicking the hint button is their last resort. We often recommend including code scaffolding (example below).\n",
    "\n",
    "You can read `path_to/my_data.csv` into a DataFrame named `my_data` like this after importing the pandas library:\n",
    "\n",
    "```python\n",
    "import pandas as pd\n",
    "my_data = pd.read_csv(\"path_to/my_data.csv\")\n",
    "```"
   ]
  },
  {
   "cell_type": "code",
   "execution_count": null,
   "metadata": {
    "tags": [
     "@sample_code"
    ]
   },
   "outputs": [],
   "source": [
    "# Create a correlation matrix\n",
    "corr_metrics = ...\n",
    "print(corr_metrics)\n",
    "\n",
    "# Turn on inline plotting\n",
    "%matplotlib inline\n",
    "\n",
    "# Import seaborn\n",
    "...\n",
    "\n",
    "# Create the pairwise scatter plot \n",
    "..."
   ]
  },
  {
   "cell_type": "code",
   "execution_count": null,
   "metadata": {
    "tags": [
     "@solution"
    ]
   },
   "outputs": [],
   "source": [
    "# Create a correlation matrix\n",
    "corr_metrics = track_metrics.corr()\n",
    "print(corr_metrics)\n",
    "\n",
    "# Turn on inline plotting\n",
    "%matplotlib inline\n",
    "\n",
    "# Import seaborn\n",
    "import seaborn as sns\n",
    "\n",
    "# Create the pairwise scatter plot\n",
    "sns.pairplot(echo_tracks)"
   ]
  },
  {
   "cell_type": "code",
   "execution_count": null,
   "metadata": {
    "tags": [
     "@tests"
    ]
   },
   "outputs": [],
   "source": [
    "%%nose\n",
    "\n",
    "import sys\n",
    "\n",
    "p = sns.pairplot(echo_tracks)\n",
    "\n",
    "def test_corr_matrix():\n",
    "    assert all(corr_metrics == track_metrics.corr()), \\\n",
    "        'The correlation matrix can be computed using the .corr() method.'\n",
    "\n",
    "def test_seaborn_import():\n",
    "    assert 'seaborn' in sys.modules, \\\n",
    "        'Have you imported the seaborn package?'\n",
    "\n",
    "def test_pairplot():\n",
    "    # TODO Wether this will work or not depends a bit on how the tests are actually run in the live\n",
    "    # notebook, and in which order the cells are executed so it might still be safer to go with\n",
    "    # the assign plot to variable solution.\n",
    "    assert Out[sorted(Out.keys())[-1]].diag_axes[0].axes.numCols == 9, \\\n",
    "        \"Use seaborn's pairplot method on the same data frame that the correlation matrix was computed from\""
   ]
  },
  {
   "cell_type": "markdown",
   "metadata": {
    "tags": [
     "type:NotebookTask"
    ]
   },
   "source": [
    "## 3. Normalizing the feature data"
   ]
  },
  {
   "cell_type": "markdown",
   "metadata": {
    "tags": [
     "@context"
    ]
   },
   "source": [
    "As mentioned earlier, it can be particularly useful to simplify our models and use as few features as necessary to achieve the best result. Since we didn't find any particular strong correlations between our features, we can instead use a common approach to reduce the number of features called **principal component analysis (PCA)**. \n",
    "\n",
    "It is possible that the variance between genres can be explained by just a few features in the data set. PCA rotates the data along the axis of highest variance, thus allowing us to determine the relative contribution of each feature of our data towards the variance between classes. \n",
    "\n",
    "However, since PCA uses the absolute variance of a feature to rotate the data, a feature with a broader range of values will overpower and bias the algorithm relative to the other features. To avoid this, we must first normalize our data. There are a few methods to do this, but a common way is through *standardization*, such that all features have a mean = 0 and standard deviation = 1 (the resultant is a z-score)."
   ]
  },
  {
   "cell_type": "markdown",
   "metadata": {
    "tags": [
     "@instructions"
    ]
   },
   "source": [
    "Prepare our dataset for training a model, and standardize the data.\n",
    "- Define our features from `echo_tracks` by removing `genre_top` and `track_id` from the DataFrame using `DataFrame.drop()` along axis 1.\n",
    "- Define our labels from `echo_tracks` which consist of only the `genre_top` column.\n",
    "\n",
    "<hr>\n",
    "\n",
    "Helpful links:\n",
    "- pandas `DataFrame.drop()` method [documentation](https://pandas.pydata.org/pandas-docs/stable/generated/pandas.DataFrame.drop.html)\n",
    "- Square brackets in Pandas [exercise](https://campus.datacamp.com/courses/intermediate-python-for-data-science/dictionaries-pandas?ex=15)"
   ]
  },
  {
   "cell_type": "markdown",
   "metadata": {
    "tags": [
     "@hint"
    ]
   },
   "source": [
    "Hints are meant for students who are stuck. Since students can't view solutions in Projects, clicking the hint button is their last resort. We often recommend including code scaffolding (example below).\n",
    "\n",
    "You can read `path_to/my_data.csv` into a DataFrame named `my_data` like this after importing the pandas library:\n",
    "\n",
    "```python\n",
    "import pandas as pd\n",
    "my_data = pd.read_csv(\"path_to/my_data.csv\")\n",
    "```"
   ]
  },
  {
   "cell_type": "code",
   "execution_count": null,
   "metadata": {
    "tags": [
     "@sample_code"
    ]
   },
   "outputs": [],
   "source": [
    "# Separate your features and labels \n",
    "features = ...\n",
    "labels = ...\n",
    "\n",
    "# Import the StandardScaler\n",
    "...\n",
    "\n",
    "# Scale the features and set the values to a new variable\n",
    "scaler = ...\n",
    "scaled_train_features = ..."
   ]
  },
  {
   "cell_type": "code",
   "execution_count": null,
   "metadata": {
    "tags": [
     "@solution"
    ]
   },
   "outputs": [],
   "source": [
    "# Define our features\n",
    "features = echo_tracks.drop(['genre_top', 'track_id'], axis=1) \n",
    "\n",
    "# Define our labels\n",
    "labels = echo_tracks['genre_top']\n",
    "\n",
    "# Import the StandardScaler\n",
    "from sklearn.preprocessing import StandardScaler\n",
    "\n",
    "# Scale the features and set the values to a new variable\n",
    "scaler = StandardScaler()\n",
    "scaled_train_features = scaler.fit_transform(features)\n"
   ]
  },
  {
   "cell_type": "code",
   "execution_count": null,
   "metadata": {
    "tags": [
     "@tests"
    ]
   },
   "outputs": [],
   "source": [
    "%%nose\n",
    "\n",
    "import sys\n",
    "\n",
    "def test_dropped_columns():\n",
    "    assert features.shape == (4802, 8), \\\n",
    "        'Use the .drop method to remove the genre_top and track_id columns'\n",
    "        \n",
    "def test_labels_df():\n",
    "    assert labels.name == 'genre_top' and labels.shape == (4802, ), \\\n",
    "        'Does your labels DataFrame only contain the genre_top column?'\n",
    "        \n",
    "def test_standardscaler_import():\n",
    "    assert 'sklearn.preprocessing' in list(sys.modules.keys()), \\\n",
    "        'The StandardScaler can be imported from sklearn.preprocessing'\n",
    "        \n",
    "def test_scaled_train_features():\n",
    "    assert scaled_train_features.shape == (4802, 8) and round(scaled_train_features[0][0], 2) == -0.19, \\\n",
    "        \"Use the StandardScaler's fit_transform method to scale your features\""
   ]
  },
  {
   "cell_type": "markdown",
   "metadata": {
    "tags": [
     "type:NotebookTask"
    ]
   },
   "source": [
    "## 4. Principal Component Analysis on our scaled data"
   ]
  },
  {
   "cell_type": "markdown",
   "metadata": {
    "tags": [
     "@context"
    ]
   },
   "source": [
    "Now that we have preprocessed our data, we are ready to use PCA to determine by how much we can reduce the dimensionality of our data. We can use **scree-plots** and **cumulative explained ratio plots** to find the number of components to use in further analyses.\n",
    "\n",
    "Scree-plots display the number of components against the variance explained by each component, sorted in descending order of variance. Scree-plots help us get a better sense of which components explain a sufficient amount of variance in our data. When using scree plots, an 'elbow' (a steep drop from one data point to the next) in the plot is typically used to decide on an appropriate cutoff."
   ]
  },
  {
   "cell_type": "markdown",
   "metadata": {
    "tags": [
     "@instructions"
    ]
   },
   "source": [
    "Use PCA to determine the explained variance of our features\n",
    "- Import the `matplotlib.pyplot` module as `plt`, and our `PCA` function from `sklearn.decomposition`\n",
    "- Create our PCA class using `PCA()`, fit the model on our `scaled_train_features` using PCA.fit(), and retrieve the explained variance ratio\n",
    "- Make a bar plot of the explained variance ratio of each feature\n",
    "\n",
    "<hr>\n",
    "\n",
    "We run PCA on all our features at first, which is done by default if `n_components` is not specified.\n",
    "\n",
    "Helpful links:\n",
    "- sklearn PCA [documentation](http://scikit-learn.org/stable/modules/generated/sklearn.decomposition.PCA.html)\n",
    "- matplotlib `bar` plot [documentation](https://matplotlib.org/api/_as_gen/matplotlib.axes.Axes.bar.html)"
   ]
  },
  {
   "cell_type": "markdown",
   "metadata": {
    "tags": [
     "@hint"
    ]
   },
   "source": [
    "Hints are meant for students who are stuck. Since students can't view solutions in Projects, clicking the hint button is their last resort. We often recommend including code scaffolding (example below).\n",
    "\n",
    "You can read `path_to/my_data.csv` into a DataFrame named `my_data` like this after importing the pandas library:\n",
    "\n",
    "```python\n",
    "import pandas as pd\n",
    "my_data = pd.read_csv(\"path_to/my_data.csv\")\n",
    "```"
   ]
  },
  {
   "cell_type": "code",
   "execution_count": null,
   "metadata": {
    "tags": [
     "@sample_code"
    ]
   },
   "outputs": [],
   "source": [
    "# Import our plotting module, and PCA function\n",
    "#... YOUR CODE ...\n",
    "\n",
    "# Get our explained variance ratios from PCA using all features\n",
    "pca = ...\n",
    "...\n",
    "exp_variance = ...\n",
    "\n",
    "# plot the explained variance using a barplot\n",
    "fig, ax = plt.subplots()\n",
    "ax.bar(...)"
   ]
  },
  {
   "cell_type": "code",
   "execution_count": null,
   "metadata": {
    "tags": [
     "@solution"
    ]
   },
   "outputs": [],
   "source": [
    "# Import our plotting module, and PCA function\n",
    "import matplotlib.pyplot as plt\n",
    "from sklearn.decomposition import PCA\n",
    "\n",
    "# Get our explained variance ratios from PCA using all features\n",
    "pca = PCA()\n",
    "pca.fit(scaled_train_features)\n",
    "exp_variance = pca.explained_variance_ratio_\n",
    "\n",
    "# plot the explained variance using a barplot\n",
    "fig, ax = plt.subplots()\n",
    "ax.bar(range(pca.n_components_), exp_variance)"
   ]
  },
  {
   "cell_type": "code",
   "execution_count": null,
   "metadata": {
    "tags": [
     "@tests"
    ]
   },
   "outputs": [],
   "source": [
    "%%nose\n",
    "\n",
    "import sklearn\n",
    "import numpy as np\n",
    "import sys\n",
    "\n",
    "def test_pca_import():\n",
    "    assert 'sklearn.decomposition.pca' in list(sys.modules.keys()), \\\n",
    "        'Have you imported the PCA object from sklearn.decomposition?'\n",
    "\n",
    "def test_pca_obj():\n",
    "    assert type(pca) == sklearn.decomposition.pca.PCA, \\\n",
    "        \"Use scikit-learn's PCA() object to create your own here\"\n",
    "        \n",
    "def test_exp_variance():\n",
    "    rounded_array = np.array([0.24, 0.18, 0.14, 0.13, 0.11, 0.08, 0.07, 0.05])\n",
    "    rounder = lambda t: round(t, ndigits = 2)\n",
    "    vectorized_round = np.vectorize(rounder)\n",
    "    assert all(vectorized_round(exp_variance) == rounded_array), \\\n",
    "        'Following the PCA fit, the explained variance ratios can be obtained via the explained_variance_ratio_ method'\n",
    "        \n",
    "def test_scree_plot():\n",
    "    expected_xticks = [float(n) for n in list(range(-1, 9))]\n",
    "    assert list(ax.get_xticks()) == expected_xticks, \\\n",
    "        'Plot the number of pca components (on the x-axis) against the explained variance (on the y-axis)'"
   ]
  },
  {
   "cell_type": "markdown",
   "metadata": {
    "tags": [
     "type:NotebookTask"
    ]
   },
   "source": [
    "## 5. Further visualization of PCA"
   ]
  },
  {
   "cell_type": "markdown",
   "metadata": {
    "tags": [
     "@context"
    ]
   },
   "source": [
    "Unfortunately, there does not appear to be a clear elbow in this scree plot, which means it is not straightforward to find the number of intrinsic dimensions using this method. \n",
    "\n",
    "But all is not lost! Instead, we can also look at the **cumulative explained variance plot** to determine how many features are required to explain, say, about 90% of the variance (cutoffs are somewhat arbitrary here, and usually decided upon by 'rules of thumb'). Once we determine the appropriate number of components, we can perform PCA with that many components, ideally reducing the dimensionality of our data."
   ]
  },
  {
   "cell_type": "markdown",
   "metadata": {
    "tags": [
     "@instructions"
    ]
   },
   "source": [
    "Plot the cumulative explained variance of our PCA.\n",
    "- Import the `numpy` library as `np`.\n",
    "- Calculate the cumulative sums of our explained variance using `np.cumsum()`.\n",
    "- Plot the cumulative explained variances using `ax.plot` and look for the number of components at which we can account for >90% of our variance; assign this to `n_components`.\n",
    "- Perform PCA using `n_components` and project our data onto these components.\n",
    "\n",
    "<hr>\n",
    "\n",
    "Helpful links:\n",
    "- numpy `cumsum()` function [documentation](https://docs.scipy.org/doc/numpy/reference/generated/numpy.cumsum.html)\n",
    "- sklearn PCA [documentation](http://scikit-learn.org/stable/modules/generated/sklearn.decomposition.PCA.html)"
   ]
  },
  {
   "cell_type": "markdown",
   "metadata": {
    "tags": [
     "@hint"
    ]
   },
   "source": [
    "Hints are meant for students who are stuck. Since students can't view solutions in Projects, clicking the hint button is their last resort. We often recommend including code scaffolding (example below).\n",
    "\n",
    "You can read `path_to/my_data.csv` into a DataFrame named `my_data` like this after importing the pandas library:\n",
    "\n",
    "```python\n",
    "import pandas as pd\n",
    "my_data = pd.read_csv(\"path_to/my_data.csv\")\n",
    "```"
   ]
  },
  {
   "cell_type": "code",
   "execution_count": null,
   "metadata": {
    "tags": [
     "@sample_code"
    ]
   },
   "outputs": [],
   "source": [
    "# Import numpy\n",
    "...\n",
    "\n",
    "# Calculate the cumulative explained variance\n",
    "cum_exp_variance = ...\n",
    "\n",
    "# Plot the cumulative explained variance and draw a dashed line at 0.90.\n",
    "fig, ax = plt.subplots()\n",
    "...\n",
    "ax.axhline(y=0.9, linestyle='--')\n",
    "n_components = ...\n",
    "\n",
    "# Perform PCA with the chosen number of components and project data onto components\n",
    "pca = PCA(n_components)\n",
    "pca.fit(scaled_train_features)\n",
    "projection = ..."
   ]
  },
  {
   "cell_type": "code",
   "execution_count": null,
   "metadata": {
    "tags": [
     "@solution"
    ]
   },
   "outputs": [],
   "source": [
    "import numpy as np\n",
    "\n",
    "# Calculate the cumulative explained variance\n",
    "cum_exp_variance = np.cumsum(exp_variance)\n",
    "\n",
    "fig, ax = plt.subplots()\n",
    "ax.plot(cum_exp_variance)\n",
    "ax.axhline(y=0.9, linestyle='--')\n",
    "n_components = 6\n",
    "\n",
    "# Perform PCA with the chosen number of components and project data onto components\n",
    "pca = PCA(n_components, random_state=0)\n",
    "pca.fit(scaled_train_features)\n",
    "projection = pca.transform(scaled_train_features)"
   ]
  },
  {
   "cell_type": "code",
   "execution_count": null,
   "metadata": {
    "tags": [
     "@tests"
    ]
   },
   "outputs": [],
   "source": [
    "%%nose\n",
    "\n",
    "import sys\n",
    "\n",
    "def test_np_import():\n",
    "    assert 'numpy' in list(sys.modules.keys()), \\\n",
    "        'Have you imported numpy?'\n",
    "    \n",
    "\n",
    "def test_cumsum():\n",
    "    cum_exp_variance_correct = np.cumsum(exp_variance)\n",
    "    assert all(cum_exp_variance == cum_exp_variance_correct), \\\n",
    "    'Use np.cumsum to calculate the cumulative sum of the exp_variance array'\n",
    "    \n",
    "    \n",
    "def test_cum_exp_ax():\n",
    "    fig_test, ax_test = plt.subplots()\n",
    "    ax_test.plot(cum_exp_variance)\n",
    "    cum_exp_variance_correct = np.cumsum(exp_variance)\n",
    "    assert ax.get_xlim() == ax_test.get_xlim(), \\\n",
    "    'Use np.cumsum to calculate the cumulative sum of the exp_variance array'\n",
    "    \n",
    "    \n",
    "def test_n_comp():\n",
    "    assert n_components == 6, \\\n",
    "    ('Check the values in cum_sum_exp_variance if it is difficult '\n",
    "    'to determine the number of components from the plot')\n",
    "    \n",
    "    \n",
    "def test_trans_pca():\n",
    "    pca_test = PCA(n_components, random_state=0)\n",
    "    pca_test.fit(scaled_train_features)\n",
    "    assert (projection == pca_test.transform(scaled_train_features)).all(), \\\n",
    "    'Transform the scaled features and assign them to the projection variable'"
   ]
  },
  {
   "cell_type": "markdown",
   "metadata": {
    "tags": [
     "type:NotebookTask"
    ]
   },
   "source": [
    "## 6. Train a decision tree to classify genre"
   ]
  },
  {
   "cell_type": "markdown",
   "metadata": {
    "tags": [
     "@context"
    ]
   },
   "source": [
    "Now that we have reduced the dimensionality of our dataset, we can start classifying our data. In order to do that, we first need to split our dataset into 'train' and 'test' subsets, where the 'train' subset will be used to train our model while the 'test' dataset allows for model performance validation.\n",
    "\n",
    "Here, we will be using a simple algorithm known as a decision tree. Decision trees are rule-based classifiers that take in features and follow a 'tree structure' of binary decisions to ultimately classify a data point into one of two or more categories. In addition to being easy to both use and interpret, decision trees allow us to visualize the 'logic flowchart' that the model generates from the training data.\n",
    "\n",
    "Here is an example of a decision tree that demonstrates the process by which an input image (in this case, of a shape) might be classified based on the number of sides it has and whether it is rotated.\n",
    "\n",
    "<img src=\"https://upload.wikimedia.org/wikipedia/commons/thumb/2/25/Simple_decision_tree.svg/2000px-Simple_decision_tree.svg.png\" alt=\"Decision Tree Flow Chart Example\" width=\"350px\"/>"
   ]
  },
  {
   "cell_type": "markdown",
   "metadata": {
    "tags": [
     "@instructions"
    ]
   },
   "source": [
    "Prepare our training and test sets and train our first classifier.\n",
    "- Import the `train_test_split` function from `sklearn.model_selection` library\n",
    "- Split our projected data into train and test, features and labels, respectively using `train_test_split()`.\n",
    "- Create our decision tree classifier using DecisionTreeClassifier() and a random state of `10` and train the model using the `model.fit()` notation\n",
    "- Find the predicted labels from our trained model using the `model.predict()` notation.\n",
    "\n",
    "<hr>\n",
    "\n",
    "Helpful links:\n",
    "- scikit-learn `train_test_split()` function [documentation](http://scikit-learn.org/stable/modules/generated/sklearn.model_selection.train_test_split.html)\n",
    "- scikit-learn `DecisionTreeClassifier()` class [documentation](http://scikit-learn.org/stable/modules/generated/sklearn.tree.DecisionTreeClassifier.html)"
   ]
  },
  {
   "cell_type": "markdown",
   "metadata": {
    "tags": [
     "@hint"
    ]
   },
   "source": [
    "Hints are meant for students who are stuck. Since students can't view solutions in Projects, clicking the hint button is their last resort. We often recommend including code scaffolding (example below).\n",
    "\n",
    "You can read `path_to/my_data.csv` into a DataFrame named `my_data` like this after importing the pandas library:\n",
    "\n",
    "```python\n",
    "import pandas as pd\n",
    "my_data = pd.read_csv(\"path_to/my_data.csv\")\n",
    "```"
   ]
  },
  {
   "cell_type": "code",
   "execution_count": null,
   "metadata": {
    "tags": [
     "@sample_code"
    ]
   },
   "outputs": [],
   "source": [
    "# Import train_test_split function and Decision tree classifier\n",
    "# ... YOUR CODE ...\n",
    "\n",
    "# Split our data\n",
    "train_features, test_features, train_labels, test_labels = ...\n",
    "\n",
    "# Train our decision tree\n",
    "tree = ...\n",
    "...\n",
    "\n",
    "# Predict the labels for the test data\n",
    "pred_labels_tree = ..."
   ]
  },
  {
   "cell_type": "code",
   "execution_count": null,
   "metadata": {
    "tags": [
     "@solution"
    ]
   },
   "outputs": [],
   "source": [
    "# Import train_test_split function and Decision tree classifier\n",
    "from sklearn.model_selection import train_test_split\n",
    "from sklearn.tree import DecisionTreeClassifier\n",
    "\n",
    "# Split our data\n",
    "train_features, test_features, train_labels, test_labels = train_test_split(\n",
    "    projection, labels, random_state=10)\n",
    "\n",
    "# Train our decision tree\n",
    "tree = DecisionTreeClassifier(random_state=10)\n",
    "tree.fit(train_features, train_labels)\n",
    "\n",
    "# Predict the labels for the test data\n",
    "pred_labels_tree = tree.predict(test_features)"
   ]
  },
  {
   "cell_type": "code",
   "execution_count": null,
   "metadata": {
    "tags": [
     "@tests"
    ]
   },
   "outputs": [],
   "source": [
    "%%nose\n",
    "\n",
    "import sys\n",
    "\n",
    "def test_train_test_split_import():\n",
    "    assert 'sklearn.model_selection' in list(sys.modules.keys()), \\\n",
    "        'Have you imported train_test_split from sklearn.model_selection?'\n",
    "\n",
    "    \n",
    "def test_decision_tree_import():\n",
    "    assert 'sklearn.tree' in list(sys.modules.keys()), \\\n",
    "        'Have you imported DecisionTreeClassifier from sklearn.tree?'\n",
    "    \n",
    "    \n",
    "def test_train_test_split():\n",
    "    train_test_res = train_test_split(projection, labels, random_state=10)\n",
    "    assert (train_features == train_test_res[0]).all(), \\\n",
    "        'Did you correctly call the train_test_split function?'\n",
    "    \n",
    "    \n",
    "def test_tree():\n",
    "    assert tree.get_params() == DecisionTreeClassifier(random_state=10).get_params(), \\\n",
    "        'Did you create the decision tree correctly?'\n",
    "    \n",
    "    \n",
    "def test_tree_fit():\n",
    "    assert hasattr(tree, 'classes_'), \\\n",
    "        'Did you fit the tree to the training data?'\n",
    "    \n",
    "    \n",
    "def test_tree_pred():\n",
    "    assert (pred_labels_tree == 'Rock').sum() == 971, \\\n",
    "        'Did you correctly use the fitted tree object to make a predicton from the test features?'"
   ]
  },
  {
   "cell_type": "markdown",
   "metadata": {
    "tags": [
     "type:NotebookTask"
    ]
   },
   "source": [
    "## 7. Compare our decision tree to a logistic regression"
   ]
  },
  {
   "cell_type": "markdown",
   "metadata": {
    "tags": [
     "@context"
    ]
   },
   "source": [
    "Although our tree's performance is decent, it's a bad idea to immediately assume that it's therefore the perfect tool for this job -- there's always the possibility of other models that will perform even better! It's always a worthwhile idea to at least test a few other algorithms and find the one that's best for our data.\n",
    "\n",
    "Sometimes simplest is best, and so we will start by applying **logistic regression**. Logistic regression makes use of what's called the logistic function to calculate the odds that a given data point belongs to a given class. Once we have both models, we can compare them on a few performance metrics, such as false positive and false negative rate (or how many points are inaccurately classified). "
   ]
  },
  {
   "cell_type": "markdown",
   "metadata": {
    "tags": [
     "@instructions"
    ]
   },
   "source": [
    "Train our logistic regression and compare the performance with our decision tree\n",
    "- Create our logistic regression model using LogisticRegression() and a random state of `10`.\n",
    "- Train the model using the `model.fit()` notation and assign the predicted labels for the `test_features` to `pred_labels_logit`.\n",
    "- Print the classification report for our trained Decision Tree and Logistic Regression models. \n",
    "\n",
    "<hr>\n",
    "\n",
    "Helpful links:\n",
    "- pandas `read_csv()` function [documentation](https://pandas.pydata.org/pandas-docs/stable/generated/pandas.read_csv.html)\n",
    "- Reading a flat file [exercise](https://campus.datacamp.com/courses/pandas-foundations/data-ingestion-inspection?ex=10) in the pandas Foundations course"
   ]
  },
  {
   "cell_type": "markdown",
   "metadata": {
    "tags": [
     "@hint"
    ]
   },
   "source": [
    "Hints are meant for students who are stuck. Since students can't view solutions in Projects, clicking the hint button is their last resort. We often recommend including code scaffolding (example below).\n",
    "\n",
    "You can read `path_to/my_data.csv` into a DataFrame named `my_data` like this after importing the pandas library:\n",
    "\n",
    "```python\n",
    "import pandas as pd\n",
    "my_data = pd.read_csv(\"path_to/my_data.csv\")\n",
    "```"
   ]
  },
  {
   "cell_type": "code",
   "execution_count": null,
   "metadata": {
    "tags": [
     "@sample_code"
    ]
   },
   "outputs": [],
   "source": [
    "# Import LogisticRegression\n",
    "from sklearn.linear_model import LogisticRegression\n",
    "\n",
    "# Train our logisitic regression and predict labels for the test set\n",
    "logreg = ...\n",
    "# ... YOUR CODE ...\n",
    "pred_labels_logit = ...\n",
    "\n",
    "# Compare the models using classification_report\n",
    "from sklearn.metrics import classification_report\n",
    "\n",
    "# Create the classification report for the tree based model\n",
    "class_rep_tree = ...\n",
    "\n",
    "# Create the classification report for the logistic regression model\n",
    "class_rep_log = ...\n",
    "\n",
    "print(\"Decision Tree: \\n\", class_rep_tree)\n",
    "print(\"Logistic Regression: \\n\", class_rep_log"
   ]
  },
  {
   "cell_type": "code",
   "execution_count": null,
   "metadata": {
    "tags": [
     "@solution"
    ]
   },
   "outputs": [],
   "source": [
    "# Import LogisticRegression\n",
    "from sklearn.linear_model import LogisticRegression\n",
    "\n",
    "# Train our logisitic regression\n",
    "logreg = LogisticRegression(random_state=10)\n",
    "logreg.fit(train_features, train_labels)\n",
    "pred_labels_logit = logreg.predict(test_features)\n",
    "\n",
    "# Compare the models\n",
    "from sklearn.metrics import classification_report\n",
    "class_rep_tree = classification_report(test_labels, pred_labels_tree)\n",
    "class_rep_log = classification_report(test_labels, pred_labels_logit)\n",
    "print(\"Decision Tree: \\n\", class_rep_tree)\n",
    "print(\"Logistic Regression: \\n\", class_rep_log)"
   ]
  },
  {
   "cell_type": "code",
   "execution_count": null,
   "metadata": {
    "tags": [
     "@tests"
    ]
   },
   "outputs": [],
   "source": [
    "%%nose\n",
    "\n",
    "# One or more tests of the students code. \n",
    "# The @solution should pass the tests.\n",
    "# The purpose of the tests is to try to catch common errors and to \n",
    "# give the student a hint on how to resolve these errors.\n",
    "\n",
    "def test_logreg():\n",
    "    assert logreg.get_params() == LogisticRegression(random_state=10).get_params(), \\\n",
    "        'The logreg variable should be created using LogisticRegression()'\n",
    "\n",
    "    \n",
    "def test_logreg_pred():\n",
    "    assert (pred_labels_logit == 'Rock').sum() == 1027, \\\n",
    "        'The labels should be predicted from the test_features'\n",
    "    \n",
    "    \n",
    "def test_class_rep_tree():\n",
    "    assert class_rep_tree == ('             precision    recall  f1-score   support'\n",
    "                              '\\n\\n    Hip-Hop       0.66      0.66      0.66       229'\n",
    "                              '\\n       Rock       0.92      0.92      0.92       972'\n",
    "                              '\\n\\navg / total       0.87      0.87      0.87      1201\\n'), \\\n",
    "        'Did you create the classification report correctly for the decision tree?'\n",
    "    \n",
    "    \n",
    "def test_class_rep_log():\n",
    "    assert class_rep_log == ('             precision    recall  f1-score   support'\n",
    "                             '\\n\\n    Hip-Hop       0.75      0.57      0.65       229'\n",
    "                             '\\n       Rock       0.90      0.95      0.93       972'\n",
    "                             '\\n\\navg / total       0.87      0.88      0.87      1201\\n'), \\\n",
    "        'Did you create the classification report correctly for the logistic regression?'"
   ]
  },
  {
   "cell_type": "markdown",
   "metadata": {
    "tags": [
     "type:NotebookTask"
    ]
   },
   "source": [
    "## 8. Balance our data for greater performance"
   ]
  },
  {
   "cell_type": "markdown",
   "metadata": {
    "tags": [
     "@context"
    ]
   },
   "source": [
    "Both our models do similarly well, boasting 87% precision each. However, looking at our classification report, we can see that rock songs are fairly well classified, but hip hop songs are disproportionately misclassified as rock songs. \n",
    "\n",
    "Why might this be the case? Well, just by looking at the number of data points we have for each class, we see that we have far more data points for the rock classification than for hip hop, potentially skewing our model's ability to distinguish between classes. This also tells us that most of our model's accuracy is driven by its ability to classify just rock songs, which is less than ideal.\n",
    "\n",
    "To account for this, we can weight the value of a correct classification in each class inversely to the occurrence of data points for each class. Since a correct classification for \"Rock\" is not more important than a correct classification for \"Hip-Hop\" (and vice versa), we only need to account for differences in _sample size_ of our data points when weighting our classes here, and not relative importance of each class. "
   ]
  },
  {
   "cell_type": "markdown",
   "metadata": {
    "tags": [
     "@instructions"
    ]
   },
   "source": [
    "Balance our dataset such that the number of tracks for each genre are the same.\n",
    "- Subset only the hip-hop tracks from `echo_tracks` using df.loc[], and the same for the rock tracks\n",
    "- Sample `rock_only` such that there are the same number of data points as there are hip-hop data points. Set the random state to 0.\n",
    "\n",
    "<hr>\n",
    "\n",
    "Helpful links:\n",
    "- pandas `DataFrame.loc[]` slicing [documentation](https://pandas.pydata.org/pandas-docs/stable/generated/pandas.DataFrame.loc.html)\n",
    "- pandas `merge()` function [documentation](https://pandas.pydata.org/pandas-docs/stable/generated/pandas.merge.html#pandas.merge)\n",
    "- pandas `DataFrame.sample()` method [documentation](https://pandas.pydata.org/pandas-docs/stable/generated/pandas.DataFrame.sample.html)"
   ]
  },
  {
   "cell_type": "markdown",
   "metadata": {
    "tags": [
     "@hint"
    ]
   },
   "source": [
    "Hints are meant for students who are stuck. Since students can't view solutions in Projects, clicking the hint button is their last resort. We often recommend including code scaffolding (example below).\n",
    "\n",
    "You can read `path_to/my_data.csv` into a DataFrame named `my_data` like this after importing the pandas library:\n",
    "\n",
    "```python\n",
    "import pandas as pd\n",
    "my_data = pd.read_csv(\"path_to/my_data.csv\")\n",
    "```"
   ]
  },
  {
   "cell_type": "code",
   "execution_count": null,
   "metadata": {
    "tags": [
     "@sample_code"
    ]
   },
   "outputs": [],
   "source": [
    "# Subset only the hip-hop tracks, and then only the rock tracks\n",
    "hop_only = ...\n",
    "rock_only = ...\n",
    "\n",
    "# sample the rocks songs to be the same number as there are hip-hop songs\n",
    "rock_only = ...\n",
    "\n",
    "# concatenate the dataframes hop_only and rock_only\n",
    "rock_hop_bal = ...\n",
    "\n",
    "# Redefine our train, test sets\n",
    "features, labels = rock_hop_bal.drop(['genre_top', 'track_id'], axis=1), rock_hop_bal['genre_top']\n",
    "train_features, test_features, train_labels, test_labels = train_test_split(..., random_state=10)"
   ]
  },
  {
   "cell_type": "code",
   "execution_count": null,
   "metadata": {
    "tags": [
     "@solution"
    ]
   },
   "outputs": [],
   "source": [
    "# Subset a balanced proportion of data points\n",
    "hop_only = echo_tracks.loc[echo_tracks['genre_top'] == 'Hip-Hop']\n",
    "\n",
    "# subset only the rock songs, and take a sample the same size as there are hip-hop songs\n",
    "rock_only = echo_tracks.loc[echo_tracks['genre_top'] == 'Rock'].sample(hop_only.shape[0], random_state=0)\n",
    "\n",
    "# concatenate the dataframes hop_only and rock_only\n",
    "rock_hop_bal = pd.concat([rock_only, hop_only])\n",
    "\n",
    "# Redefine our train, test sets\n",
    "features = rock_hop_bal.drop(['genre_top', 'track_id'], axis=1) \n",
    "labels = rock_hop_bal['genre_top']\n",
    "train_features, test_features, train_labels, test_labels = train_test_split(\n",
    "    features, labels, random_state=10)"
   ]
  },
  {
   "cell_type": "code",
   "execution_count": null,
   "metadata": {
    "tags": [
     "@tests"
    ]
   },
   "outputs": [],
   "source": [
    "%%nose\n",
    "\n",
    "def test_hop_only():\n",
    "    try:\n",
    "        pd.testing.assert_frame_equal(hop_only, echo_tracks.loc[echo_tracks['genre_top'] == 'Hip-Hop'])\n",
    "    except AssertionError:\n",
    "        assert False, \"The hop_only data frame was not assigned correctly\"\n",
    "        \n",
    "\n",
    "def test_rock_only():\n",
    "    try:\n",
    "        pd.testing.assert_frame_equal(\n",
    "            rock_only, echo_tracks.loc[echo_tracks['genre_top'] == 'Rock'].sample(hop_only.shape[0], random_state=0))\n",
    "    except AssertionError:\n",
    "        assert False, \"The rock_only data frame was not assigned correctly\"\n",
    "        \n",
    "        \n",
    "def test_rock_hop_bal():\n",
    "    hop_only = echo_tracks.loc[echo_tracks['genre_top'] == 'Hip-Hop']\n",
    "    rock_only = echo_tracks.loc[echo_tracks['genre_top'] == 'Rock'].sample(hop_only.shape[0], random_state=0)\n",
    "    try:\n",
    "        pd.testing.assert_frame_equal(\n",
    "            rock_hop_bal, pd.concat([rock_only, hop_only]))\n",
    "    except AssertionError:\n",
    "        assert False, \"The rock_hop_bal data frame was not assigned correctly\""
   ]
  },
  {
   "cell_type": "markdown",
   "metadata": {
    "tags": [
     "type:NotebookTask"
    ]
   },
   "source": [
    "## 9. Confirm whether balancing our dataset improves our model bias"
   ]
  },
  {
   "cell_type": "markdown",
   "metadata": {
    "tags": [
     "@context"
    ]
   },
   "source": [
    "We've now balanced our dataset, but in doing so, we've removed a lot of data points that might have been crucial to training our models. Let's test to see if balancing our data improves model bias towards the \"Rock\" classification while retaining overall classification performance. \n",
    "\n",
    "Note that we have already reduced the size of our dataset and will go forward without applying any dimensionality reduction. In practice, we would consider dimensionality reduction more rigorously when dealing with vastly large datasets and when computation times become prohibitively large."
   ]
  },
  {
   "cell_type": "markdown",
   "metadata": {
    "tags": [
     "@instructions"
    ]
   },
   "source": [
    "Compare the two model performances on the balanced data.\n",
    "- Create and train your decision tree using `DecisionTreeClassifier()` and a random state of `10`, then predict on the `test_features`.\n",
    "- Create and train your logistic regression using `LogisticRegression()` and a random state of `10`, then predict on the `test_features`.\n",
    "- Compare the performance of the two models using `classification_report()`. \n",
    "\n",
    "<hr>\n"
   ]
  },
  {
   "cell_type": "markdown",
   "metadata": {
    "tags": [
     "@hint"
    ]
   },
   "source": [
    "Hints are meant for students who are stuck. Since students can't view solutions in Projects, clicking the hint button is their last resort. We often recommend including code scaffolding (example below).\n",
    "\n",
    "You can read `path_to/my_data.csv` into a DataFrame named `my_data` like this after importing the pandas library:\n",
    "\n",
    "```python\n",
    "import pandas as pd\n",
    "my_data = pd.read_csv(\"path_to/my_data.csv\")\n",
    "```"
   ]
  },
  {
   "cell_type": "code",
   "execution_count": null,
   "metadata": {
    "tags": [
     "@sample_code"
    ]
   },
   "outputs": [],
   "source": [
    "# Train our decision tree on the balanced data\n",
    "tree = ...\n",
    "...\n",
    "pred_labels_tree = ...\n",
    "\n",
    "# Train our logistic regression on the balanced data\n",
    "logreg = ...\n",
    "...\n",
    "pred_labels_logit = ...\n",
    "\n",
    "# compare the models\n",
    "print(\"Decision Tree: \\n\", classification_report(...))\n",
    "print(\"Logistic Regression: \\n\", classification_report(...))"
   ]
  },
  {
   "cell_type": "code",
   "execution_count": null,
   "metadata": {
    "tags": [
     "@solution"
    ]
   },
   "outputs": [],
   "source": [
    "# Train our decision tree on the balanced data\n",
    "tree = DecisionTreeClassifier(random_state=10)\n",
    "tree.fit(train_features, train_labels)\n",
    "pred_labels_tree = tree.predict(test_features)\n",
    "\n",
    "# Train our logistic regression on the balanced data\n",
    "logreg = LogisticRegression(random_state=10)\n",
    "logreg.fit(train_features, train_labels)\n",
    "pred_labels_logit = logreg.predict(test_features)\n",
    "\n",
    "# compare the models\n",
    "print(\"Decision Tree: \\n\", classification_report(test_labels, pred_labels_tree))\n",
    "print(\"Logistic Regression: \\n\", classification_report(test_labels, pred_labels_logit))"
   ]
  },
  {
   "cell_type": "code",
   "execution_count": null,
   "metadata": {
    "tags": [
     "@tests"
    ]
   },
   "outputs": [],
   "source": [
    "%%nose\n",
    "\n",
    "# One or more tests of the students code. \n",
    "# The @solution should pass the tests.\n",
    "# The purpose of the tests is to try to catch common errors and to \n",
    "# give the student a hint on how to resolve these errors.\n",
    "\n",
    "# def test_example():\n",
    "#     assert like_this == 'missing part filled in', \\\n",
    "#     'The student will see this message if the test fails'"
   ]
  },
  {
   "cell_type": "markdown",
   "metadata": {
    "tags": [
     "type:NotebookTask"
    ]
   },
   "source": [
    "## 10. Using cross-validation to evaluate our models"
   ]
  },
  {
   "cell_type": "markdown",
   "metadata": {
    "tags": [
     "@context"
    ]
   },
   "source": [
    "Success! Balancing our data has removed bias towards the more prevalent class. To get a good sense of how well our models are actually performing, we can apply what's called **cross-validation** (CV). This step allows us to compare models in a more rigorous fashion.\n",
    "\n",
    "Since the way our data is split into train and test sets can impact model performance, CV attempts to split the data multiple ways and test the model on each of the splits. Although there are many different CV methods, all with their own advantages and disadvantages, we will use what's known as **K-fold** CV here. K-fold first splits the data in K different, equally sized subsets. Then, it iteratively uses each subset as a test set while using the remainder of the data as train sets. Finally, we can then aggregate the results from each fold for a final model performance score."
   ]
  },
  {
   "cell_type": "markdown",
   "metadata": {
    "tags": [
     "@instructions"
    ]
   },
   "source": [
    "Use cross-validation to get a better sense of your model performance.\n",
    "- Create your cv using `KFold()` with `10` folds and a random state of `7`.\n",
    "- Train each of your models using `cross_val_score()`.\n",
    "- Print the mean of the cross validation scores for each model using `np.mean()`.\n",
    "\n",
    "<hr>\n",
    "\n",
    "Helpful links:\n",
    "- `KFold()` [documentation](http://scikit-learn.org/stable/modules/generated/sklearn.model_selection.KFold.html)\n",
    "- `cross_val_score()` [documentation](http://scikit-learn.org/stable/modules/generated/sklearn.model_selection.cross_val_score.html#sklearn.model_selection.cross_val_score)"
   ]
  },
  {
   "cell_type": "markdown",
   "metadata": {
    "tags": [
     "@hint"
    ]
   },
   "source": [
    "Hints are meant for students who are stuck. Since students can't view solutions in Projects, clicking the hint button is their last resort. We often recommend including code scaffolding (example below).\n",
    "\n",
    "You can read `path_to/my_data.csv` into a DataFrame named `my_data` like this after importing the pandas library:\n",
    "\n",
    "```python\n",
    "import pandas as pd\n",
    "my_data = pd.read_csv(\"path_to/my_data.csv\")\n",
    "```"
   ]
  },
  {
   "cell_type": "code",
   "execution_count": null,
   "metadata": {
    "tags": [
     "@sample_code"
    ]
   },
   "outputs": [],
   "source": [
    "from sklearn.model_selection import KFold, cross_val_score\n",
    "\n",
    "# Set up our K-fold cross-validation\n",
    "# ... YOUR CODE ...\n",
    "\n",
    "tree = DecisionTreeClassifier(random_state=10)\n",
    "logreg = LogisticRegression(random_state=10)\n",
    "\n",
    "# Train our models using KFold cv\n",
    "tree_score = ...\n",
    "logit_score = ...\n",
    "\n",
    "# print the mean of each array of scores\n",
    "print(\"Decision Tree:\", ..., \"Logistic Regression:\", ...)"
   ]
  },
  {
   "cell_type": "code",
   "execution_count": null,
   "metadata": {
    "tags": [
     "@solution"
    ]
   },
   "outputs": [],
   "source": [
    "from sklearn.model_selection import KFold, cross_val_score\n",
    "\n",
    "# Set up our K-fold cross-validation\n",
    "kf = KFold(10, random_state=10)\n",
    "\n",
    "tree = DecisionTreeClassifier(random_state=10)\n",
    "logreg = LogisticRegression(random_state=10)\n",
    "\n",
    "# Train our models using KFold cv\n",
    "tree_score = cross_val_score(tree, features, labels, cv=kf)\n",
    "logit_score = cross_val_score(logreg, features, labels, cv=kf)\n",
    "\n",
    "print(\"Decision Tree:\", np.mean(tree_score), \"Logistic Regression:\", np.mean(logit_score))"
   ]
  },
  {
   "cell_type": "code",
   "execution_count": null,
   "metadata": {
    "tags": [
     "@tests"
    ]
   },
   "outputs": [],
   "source": [
    "%%nose\n",
    "\n",
    "def test_kf():\n",
    "    assert kf.__repr__() == 'KFold(n_splits=10, random_state=10, shuffle=False)', \\\n",
    "    'The k-fold cross-validation was not setup correctly.'\n",
    "    \n",
    "    \n",
    "def test_tree_score():\n",
    "    assert (tree_score.sum() / tree_score.shape[0]) == 0.7978021978021979, \\\n",
    "    'The tree_score was not calculated correctly'\n",
    "    \n",
    "    \n",
    "def test_log_score():\n",
    "    assert (logit_score.sum() / logit_score.shape[0]) == 0.810989010989011, \\\n",
    "    'The logit_score was not calculated correctly'"
   ]
  },
  {
   "cell_type": "markdown",
   "metadata": {},
   "source": [
    "*The recommended number of tasks in a DataCamp Project is between 8 and 10, so feel free to add more if necessary. You can't have more than 12 tasks.*"
   ]
  }
 ],
 "metadata": {
  "anaconda-cloud": {},
  "celltoolbar": "Tags",
  "kernelspec": {
   "display_name": "Python [conda env:anaconda]",
   "language": "python",
   "name": "conda-env-anaconda-py"
  },
  "language_info": {
   "codemirror_mode": {
    "name": "ipython",
    "version": 3
   },
   "file_extension": ".py",
   "mimetype": "text/x-python",
   "name": "python",
   "nbconvert_exporter": "python",
   "pygments_lexer": "ipython3",
   "version": "3.5.2"
  }
 },
 "nbformat": 4,
 "nbformat_minor": 2
}
