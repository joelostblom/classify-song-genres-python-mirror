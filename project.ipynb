{
 "cells": [
  {
   "cell_type": "markdown",
   "metadata": {},
   "source": [
    "# Classifying Song Genres"
   ]
  },
  {
   "cell_type": "code",
   "execution_count": null,
   "metadata": {
    "collapsed": true
   },
   "outputs": [],
   "source": [
    "# This is a code cell without any tag. You can put convenience code here,\n",
    "# but it won't be included in any way in the final project.\n",
    "# For example, to be able to run tests locally in the notebook\n",
    "# you need to install the following:\n",
    "# pip install nose\n",
    "# pip install git+https://github.com/datacamp/ipython_nose\n",
    "# and then load in the ipython_nose extension like this:\n",
    "%load_ext ipython_nose"
   ]
  },
  {
   "cell_type": "markdown",
   "metadata": {},
   "source": [
    "Welcome to the official authoring notebook for your DataCamp Project! This notebook, named `project.ipynb`, contains a variety of tagged cells. Tags are in the top left corner of cells. Here's an example of a tag:\n",
    "\n",
    "![tagged_cell_img](https://i.imgur.com/H2TB22Y.png)\n",
    "\n",
    "These tagged cells are processed by software written by our talented DataCamp engineers and a [DataCamp Project](https://www.datacamp.com/projects) is the product.\n",
    "\n",
    "<img src=\"https://i.imgur.com/7mqMP5E.jpg\" alt=\"DataCamp Project interface\" width=\"600px\"/>\n",
    "\n",
    "Before you start working on this notebook, please read the `project.ipynb` notebook format in our [documentation](https://authoring.datacamp.com/projects/projects-format.html). Each type of tagged cell is described there.\n",
    "\n",
    "When you first open this notebook, you will find a template for each of the tagged cells for all tasks in your Project. Please abide by the content rules in both the documentation and in each template cell to ensure students have a consistent and smooth learning experience.\n",
    "\n",
    "If you can't find an answer in the documentation or in this template, please [create an Issue](https://help.github.com/articles/creating-an-issue/) in your Project's GitHub repository and your DataCamp contact will respond as soon as possible.\n",
    "\n",
    "Happy creating!\n",
    "\n",
    "*Again, this cell won't be included in the live version of the Project because it has no tag.*"
   ]
  },
  {
   "cell_type": "markdown",
   "metadata": {
    "tags": [
     "type:NotebookTask"
    ]
   },
   "source": [
    "## 1. Preparing our dataset"
   ]
  },
  {
   "cell_type": "markdown",
   "metadata": {
    "tags": [
     "@context"
    ]
   },
   "source": [
    "_These recommendations are so on point! How does this playlist know me so well?_\n",
    "\n",
    "Over the past few years, streaming services with vast catalogues have increasingly become the primary means through which most people listen to their favourite music. But at the same time, the wealth of options on offer can mean users might be a bit overwhelmed when trying to look for newer music that suits their tastes.\n",
    "\n",
    "For this reason, streaming services have found various means of categorizing music to allow for personalized recommendations. One method involves direct analysis of the raw audio information in a given song, scoring the raw data on a variety of metrics. Today, we'll be examining data compiled by a research group known as The Echo Nest. Our goal is to look through this dataset and classify songs as being either 'Hip-Hop' or 'Rock' - all without listening to a single one ourselves. In doing so, we will learn how to clean our data, do some exploratory data visualization, and use feature reduction towards the goal of feeding our data through some simple machine learning algorithms, decision trees and logistic regression.\n",
    "\n",
    "\n",
    "To begin with, let's load the metadata about our tracks alongside the track metrics compiled by The Echo Nest. A song is about more than its title, artist and number of listens. We have another dataset that has musical features of each track such as `danceability` and `acousticness` on a scale from -1 to 1. These exist in two different files, which are in different formats - csv and json. While csv is a popular file format for denoting tabular data, json is another common file format in which databases often return the results a given query.\n",
    "\n",
    "Let's start by creating two pandas DataFrames out of these files that we can merge so we have labels and features for the classification later on."
   ]
  },
  {
   "cell_type": "markdown",
   "metadata": {
    "tags": [
     "@instructions"
    ]
   },
   "source": [
    "**One** sentence that summarizes the code the student will write in this task.\n",
    "\n",
    "- The specific task instructions go in a bullet point list. One sentence ideally (max 2) per bullet.\n",
    "- Try to map code cell comments to instruction bullets.\n",
    "- At most 4 bullets.\n",
    "\n",
    "<hr>\n",
    "\n",
    "## Good to know\n",
    "\n",
    "The `@instructions` for **task 1** should include a \"Good to know\" section where you direct the student to resources that could be useful _throughout_ the Project, as well as the recommended prerequisites. You should also link to resources that are helpful for task 1 specifically. These resources could be external documentation, DataCamp courses and exercises, cheat sheets, Stack Overflow answers, etc. Recommended format for task 1 below.\n",
    "\n",
    "This Project lets you practice the skills from [pandas Foundations](https://www.datacamp.com/courses/pandas-foundations) and [Manipulating DataFrames with pandas](https://www.datacamp.com/courses/manipulating-dataframes-with-pandas), including reading, exploring, filtering, and grouping data. We recommend that you take those courses before starting this Project.\n",
    "\n",
    "Helpful links:\n",
    "- pandas [cheat sheet](http://datacamp-community.s3.amazonaws.com/9f0f2ae1-8bd8-4302-a67b-e17f3059d9e8)\n",
    "- pandas `read_csv()` function [documentation](https://pandas.pydata.org/pandas-docs/stable/generated/pandas.read_csv.html)\n",
    "- Reading a flat file [exercise](https://campus.datacamp.com/courses/pandas-foundations/data-ingestion-inspection?ex=10) in the pandas Foundations course"
   ]
  },
  {
   "cell_type": "markdown",
   "metadata": {
    "tags": [
     "@hint"
    ]
   },
   "source": [
    "Hints are meant for students who are stuck. Since students can't view solutions in Projects, clicking the hint button is their last resort. We often recommend including code scaffolding (example below).\n",
    "\n",
    "You can read `path_to/my_data.csv` into a DataFrame named `my_data` like this after importing the pandas library:\n",
    "\n",
    "```python\n",
    "import pandas as pd\n",
    "my_data = pd.read_csv(\"path_to/my_data.csv\")\n",
    "```"
   ]
  },
  {
   "cell_type": "code",
   "execution_count": null,
   "metadata": {
    "collapsed": true,
    "tags": [
     "@sample_code"
    ]
   },
   "outputs": [],
   "source": [
    "# This is the sample code the student will see. It should\n",
    "# consist of up to 10 lines of code and comments, and the\n",
    "# student should have to complete at most 5 lines of code.\n",
    "\n",
    "# Rule of thumb: each bullet point in @instructions should\n",
    "# correspond to a comment in the @sample_code.\n",
    "\n",
    "# Indicate missing code with ...\n",
    "like_this = ...\n",
    "# or when a line or more is required, like this:\n",
    "# ... YOUR CODE FOR TASK 1 ..."
   ]
  },
  {
   "cell_type": "code",
   "execution_count": null,
   "metadata": {
    "tags": [
     "@solution"
    ]
   },
   "outputs": [],
   "source": [
    "# Import pandas\n",
    "import pandas as pd\n",
    "\n",
    "# Read in track metadata with genre labels\n",
    "tracks = pd.read_csv('datasets/fma-rock-vs-hiphop.csv')\n",
    "\n",
    "# Read in track metrics with the features\n",
    "track_metrics = pd.read_json('datasets/echonest-clean.json', precise_float=True)\n",
    "\n",
    "# Inspect data for null values\n",
    "print(track_metrics.info())\n",
    "\n",
    "# Merge the relevant columns of tracks and track_metrics\n",
    "echo_tracks = pd.merge(track_metrics, tracks[['genre_top', 'track_id']], on='track_id')\n",
    "\n",
    "# Inspect the resultant dataframe\n",
    "echo_tracks.head()"
   ]
  },
  {
   "cell_type": "code",
   "execution_count": null,
   "metadata": {
    "collapsed": true,
    "tags": [
     "@tests"
    ]
   },
   "outputs": [],
   "source": [
    "# This needs to be included at the beginning of every @tests cell.\n",
    "%%nose\n",
    "\n",
    "# One or more tests of the students code.\n",
    "# The @solution should pass the tests.\n",
    "# The purpose of the tests is to try to catch common errors and to \n",
    "# give the student a hint on how to resolve these errors.\n",
    "\n",
    "def test_example():\n",
    "    assert like_this == 'missing part filled in', \\\n",
    "    'The student will see this message if the test fails'"
   ]
  },
  {
   "cell_type": "markdown",
   "metadata": {
    "tags": [
     "type:NotebookTask"
    ]
   },
   "source": [
    "## 2. Exploring pairwise relationships between continuous variables"
   ]
  },
  {
   "cell_type": "markdown",
   "metadata": {
    "tags": [
     "@context"
    ]
   },
   "source": [
    "We typically want to avoid using variables that have strong correlations with each other and hence avoid feature redundancy, for a few reasons:\n",
    "- to keep the model simple and improve interpretability (with many features, we can start to overfit our data)\n",
    "- when our datasets are very large, using fewer features can drastically speed up our computation time \n",
    "\n",
    "We will use simple builtin functions in the `pandas` and `seaborn` packages to get a sense of whether there are any strongly correlated features in our data."
   ]
  },
  {
   "cell_type": "markdown",
   "metadata": {
    "tags": [
     "@instructions"
    ]
   },
   "source": [
    "**One** sentence that summarizes the code the student will write in this task.\n",
    "- The specific task instructions go in a bullet point list. One sentence ideally (max 2) per bullet.\n",
    "- Try to map code cell comments to instruction bullets.\n",
    "- At most 4 bullets.\n",
    "\n",
    "<hr>\n",
    "\n",
    "Provide more info (if necessary) and include links to external resources under the horizontal ruler. The instructions should at most have 600 characters. Example format for links below.\n",
    "\n",
    "Helpful links:\n",
    "- pandas `read_csv()` function [documentation](https://pandas.pydata.org/pandas-docs/stable/generated/pandas.read_csv.html)\n",
    "- Reading a flat file [exercise](https://campus.datacamp.com/courses/pandas-foundations/data-ingestion-inspection?ex=10) in the pandas Foundations course"
   ]
  },
  {
   "cell_type": "markdown",
   "metadata": {
    "tags": [
     "@hint"
    ]
   },
   "source": [
    "Hints are meant for students who are stuck. Since students can't view solutions in Projects, clicking the hint button is their last resort. We often recommend including code scaffolding (example below).\n",
    "\n",
    "You can read `path_to/my_data.csv` into a DataFrame named `my_data` like this after importing the pandas library:\n",
    "\n",
    "```python\n",
    "import pandas as pd\n",
    "my_data = pd.read_csv(\"path_to/my_data.csv\")\n",
    "```"
   ]
  },
  {
   "cell_type": "code",
   "execution_count": null,
   "metadata": {
    "collapsed": true,
    "tags": [
     "@sample_code"
    ]
   },
   "outputs": [],
   "source": [
    "# This is the sample code the student will see. It should\n",
    "# consist of up to 10 lines of code and comments, and the\n",
    "# student should have to complete at most 5 lines of code.\n",
    "\n",
    "# Rule of thumb: each bullet point in @instructions should\n",
    "# correspond to a comment in the @sample_code.\n",
    "\n",
    "# Indicate missing code with ...\n",
    "like_this = ...\n",
    "# or when a line or more is required, like this:\n",
    "# ... YOUR CODE FOR TASK 2 ..."
   ]
  },
  {
   "cell_type": "code",
   "execution_count": null,
   "metadata": {
    "tags": [
     "@solution"
    ]
   },
   "outputs": [],
   "source": [
    "# Create a correlation matrix\n",
    "print(track_metrics.corr().style.background_gradient())\n",
    "\n",
    "# Turn on inline plotting\n",
    "%matplotlib inline\n",
    "\n",
    "# Import seaborn\n",
    "import seaborn as sns\n",
    "\n",
    "# Create the pairwise scatter plot\n",
    "sns.pairplot(echo_tracks, plot_kws={'s':1, 'edgecolor':'none', 'alpha':0.4})"
   ]
  },
  {
   "cell_type": "code",
   "execution_count": null,
   "metadata": {
    "collapsed": true,
    "tags": [
     "@tests"
    ]
   },
   "outputs": [],
   "source": [
    "# This needs to be included at the beginning of every @tests cell.\n",
    "%%nose\n",
    "\n",
    "# One or more tests of the students code. \n",
    "# The @solution should pass the tests.\n",
    "# The purpose of the tests is to try to catch common errors and to \n",
    "# give the student a hint on how to resolve these errors.\n",
    "\n",
    "def test_example():\n",
    "    assert like_this == 'missing part filled in', \\\n",
    "    'The student will see this message if the test fails'"
   ]
  },
  {
   "cell_type": "markdown",
   "metadata": {
    "tags": [
     "type:NotebookTask"
    ]
   },
   "source": [
    "## 3. Normalizing the feature data."
   ]
  },
  {
   "cell_type": "markdown",
   "metadata": {
    "tags": [
     "@context"
    ]
   },
   "source": [
    "As mentioned earlier, it can be particularly useful to simplify our models and use as few features as necessary to acheive the best result. Since we didn't find any obviously strong correlations between our features, we can use a common approach to reduce the number of features called **principal component analysis (PCA)**. \n",
    "\n",
    "It is possible that the variance between genres can be explained by just a few features in the data set. PCA rotates the data along the axis of highest variance which we can make use of to determine the relative contribution of each feature of our data towards the variance between classes. \n",
    "\n",
    "However, since PCA uses the absolute variance of a feature to rotate the data, a feature with a broader range of values will overpower and bias the algorithm relative to the other features. To avoid this, we must first normalize our data. There are a few methods to do this, but a common way is through *standardization* such that all features have a mean = 0 and standard deviation = 1 (the resultant is a z-score)."
   ]
  },
  {
   "cell_type": "markdown",
   "metadata": {
    "tags": [
     "@instructions"
    ]
   },
   "source": [
    "**One** sentence that summarizes the code the student will write in this task.\n",
    "- The specific task instructions go in a bullet point list. One sentence ideally (max 2) per bullet.\n",
    "- Try to map code cell comments to instruction bullets.\n",
    "- At most 4 bullets.\n",
    "\n",
    "<hr>\n",
    "\n",
    "Provide more info (if necessary) and include links to external resources under the horizontal ruler. The instructions should at most have 600 characters. Example format for links below.\n",
    "\n",
    "Helpful links:\n",
    "- pandas `read_csv()` function [documentation](https://pandas.pydata.org/pandas-docs/stable/generated/pandas.read_csv.html)\n",
    "- Reading a flat file [exercise](https://campus.datacamp.com/courses/pandas-foundations/data-ingestion-inspection?ex=10) in the pandas Foundations course"
   ]
  },
  {
   "cell_type": "markdown",
   "metadata": {
    "tags": [
     "@hint"
    ]
   },
   "source": [
    "Hints are meant for students who are stuck. Since students can't view solutions in Projects, clicking the hint button is their last resort. We often recommend including code scaffolding (example below).\n",
    "\n",
    "You can read `path_to/my_data.csv` into a DataFrame named `my_data` like this after importing the pandas library:\n",
    "\n",
    "```python\n",
    "import pandas as pd\n",
    "my_data = pd.read_csv(\"path_to/my_data.csv\")\n",
    "```"
   ]
  },
  {
   "cell_type": "code",
   "execution_count": null,
   "metadata": {
    "collapsed": true,
    "tags": [
     "@sample_code"
    ]
   },
   "outputs": [],
   "source": [
    "# This is the sample code the student will see. It should\n",
    "# consist of up to 10 lines of code and comments, and the\n",
    "# student should have to complete at most 5 lines of code.\n",
    "\n",
    "# Rule of thumb: each bullet point in @instructions should\n",
    "# correspond to a comment in the @sample_code.\n",
    "\n",
    "# Indicate missing code with ...\n",
    "like_this = ...\n",
    "# or when a line or more is required, like this:\n",
    "# ... YOUR CODE FOR TASK 3 ..."
   ]
  },
  {
   "cell_type": "code",
   "execution_count": null,
   "metadata": {
    "collapsed": true,
    "tags": [
     "@solution"
    ]
   },
   "outputs": [],
   "source": [
    "# Separate your features and labels \n",
    "features = echo_tracks.drop(['genre_top', 'track_id'], axis=1) \n",
    "labels = echo_tracks['genre_top']\n",
    "\n",
    "# Import the StandardScaler\n",
    "from sklearn.preprocessing import StandardScaler\n",
    "\n",
    "# Scale the features and set the values to a new variable\n",
    "scaler = StandardScaler()\n",
    "scaled_train_features = scaler.fit_transform(features)\n"
   ]
  },
  {
   "cell_type": "code",
   "execution_count": null,
   "metadata": {
    "collapsed": true,
    "tags": [
     "@tests"
    ]
   },
   "outputs": [],
   "source": [
    "# This needs to be included at the beginning of every @tests cell.\n",
    "%%nose\n",
    "\n",
    "# One or more tests of the students code. \n",
    "# The @solution should pass the tests.\n",
    "# The purpose of the tests is to try to catch common errors and to \n",
    "# give the student a hint on how to resolve these errors.\n",
    "\n",
    "def test_example():\n",
    "    assert like_this == 'missing part filled in', \\\n",
    "    'The student will see this message if the test fails'"
   ]
  },
  {
   "cell_type": "markdown",
   "metadata": {
    "tags": [
     "type:NotebookTask"
    ]
   },
   "source": [
    "## 4. Principle Component Analysis on our scaled data."
   ]
  },
  {
   "cell_type": "markdown",
   "metadata": {
    "tags": [
     "@context"
    ]
   },
   "source": [
    "Now that we have preprocessed our data, we are ready to use PCA to determine by how much we can reduce the dimensionality of our data. We can use **scree-plots** and **cumulative explained ratio plots** to find the number of components to use in further analyses.\n",
    "\n",
    "Scree-plots display the number of components against the variance explained by each component, sorted in descending order of variance. Scree-plots help us get a better sense of which components explain a sufficient amount of variance in our data. When using scree plots, an 'elbow' (a steep drop from one data point to the next) in the plot is typically used to decide on an appropriate cutoff."
   ]
  },
  {
   "cell_type": "markdown",
   "metadata": {
    "tags": [
     "@instructions"
    ]
   },
   "source": [
    "**One** sentence that summarizes the code the student will write in this task.\n",
    "- The specific task instructions go in a bullet point list. One sentence ideally (max 2) per bullet.\n",
    "- Try to map code cell comments to instruction bullets.\n",
    "- At most 4 bullets.\n",
    "\n",
    "<hr>\n",
    "\n",
    "Provide more info (if necessary) and include links to external resources under the horizontal ruler. The instructions should at most have 600 characters. Example format for links below.\n",
    "\n",
    "Helpful links:\n",
    "- pandas `read_csv()` function [documentation](https://pandas.pydata.org/pandas-docs/stable/generated/pandas.read_csv.html)\n",
    "- Reading a flat file [exercise](https://campus.datacamp.com/courses/pandas-foundations/data-ingestion-inspection?ex=10) in the pandas Foundations course"
   ]
  },
  {
   "cell_type": "markdown",
   "metadata": {
    "tags": [
     "@hint"
    ]
   },
   "source": [
    "Hints are meant for students who are stuck. Since students can't view solutions in Projects, clicking the hint button is their last resort. We often recommend including code scaffolding (example below).\n",
    "\n",
    "You can read `path_to/my_data.csv` into a DataFrame named `my_data` like this after importing the pandas library:\n",
    "\n",
    "```python\n",
    "import pandas as pd\n",
    "my_data = pd.read_csv(\"path_to/my_data.csv\")\n",
    "```"
   ]
  },
  {
   "cell_type": "code",
   "execution_count": null,
   "metadata": {
    "collapsed": true,
    "tags": [
     "@sample_code"
    ]
   },
   "outputs": [],
   "source": [
    "# This is the sample code the student will see. It should\n",
    "# consist of up to 10 lines of code and comments, and the\n",
    "# student should have to complete at most 5 lines of code.\n",
    "\n",
    "# Rule of thumb: each bullet point in @instructions should\n",
    "# correspond to a comment in the @sample_code.\n",
    "\n",
    "# Indicate missing code with ...\n",
    "like_this = ...\n",
    "# or when a line or more is required, like this:\n",
    "# ... YOUR CODE FOR TASK 4 ..."
   ]
  },
  {
   "cell_type": "code",
   "execution_count": null,
   "metadata": {
    "tags": [
     "@solution"
    ]
   },
   "outputs": [],
   "source": [
    "# Import our plotting module, and PCA function\n",
    "import matplotlib.pyplot as plt\n",
    "from sklearn.decomposition import PCA\n",
    "\n",
    "# Get our explained variance ratios from PCA\n",
    "pca = PCA()\n",
    "pca.fit(scaled_train_features)\n",
    "exp_variance = pca.explained_variance_ratio_\n",
    "\n",
    "# plot the explained variance\n",
    "fig, ax = plt.subplots()\n",
    "ax.bar(range(len(exp_variance)), exp_variance)"
   ]
  },
  {
   "cell_type": "code",
   "execution_count": null,
   "metadata": {
    "collapsed": true,
    "tags": [
     "@tests"
    ]
   },
   "outputs": [],
   "source": [
    "# This needs to be included at the beginning of every @tests cell.\n",
    "%%nose\n",
    "\n",
    "# One or more tests of the students code. \n",
    "# The @solution should pass the tests.\n",
    "# The purpose of the tests is to try to catch common errors and to \n",
    "# give the student a hint on how to resolve these errors.\n",
    "\n",
    "def test_example():\n",
    "    assert like_this == 'missing part filled in', \\\n",
    "    'The student will see this message if the test fails'"
   ]
  },
  {
   "cell_type": "markdown",
   "metadata": {
    "tags": [
     "type:NotebookTask"
    ]
   },
   "source": [
    "## 5. Further visualization of PCA"
   ]
  },
  {
   "cell_type": "markdown",
   "metadata": {
    "tags": [
     "@context"
    ]
   },
   "source": [
    "Unfortunately, there does not appear to be a clear elbow in this scree plot, so it is not straightforward to find the number of intrinsic dimensions using this method. \n",
    "\n",
    "Instead, we can also look at the **cumulative explained variance plot** to determine how many features are required to explain about 90% of the variance. Once we determine the appropriate number of components, we can perform PCA with that many components, ideally reducing the dimensionality of our data.\n",
    "\n",
    "TODO: look for paper re: 90% cutoff"
   ]
  },
  {
   "cell_type": "markdown",
   "metadata": {
    "tags": [
     "@instructions"
    ]
   },
   "source": [
    "**One** sentence that summarizes the code the student will write in this task.\n",
    "- The specific task instructions go in a bullet point list. One sentence ideally (max 2) per bullet.\n",
    "- Try to map code cell comments to instruction bullets.\n",
    "- At most 4 bullets.\n",
    "\n",
    "<hr>\n",
    "\n",
    "Provide more info (if necessary) and include links to external resources under the horizontal ruler. The instructions should at most have 600 characters. Example format for links below.\n",
    "\n",
    "Helpful links:\n",
    "- pandas `read_csv()` function [documentation](https://pandas.pydata.org/pandas-docs/stable/generated/pandas.read_csv.html)\n",
    "- Reading a flat file [exercise](https://campus.datacamp.com/courses/pandas-foundations/data-ingestion-inspection?ex=10) in the pandas Foundations course"
   ]
  },
  {
   "cell_type": "markdown",
   "metadata": {
    "tags": [
     "@hint"
    ]
   },
   "source": [
    "Hints are meant for students who are stuck. Since students can't view solutions in Projects, clicking the hint button is their last resort. We often recommend including code scaffolding (example below).\n",
    "\n",
    "You can read `path_to/my_data.csv` into a DataFrame named `my_data` like this after importing the pandas library:\n",
    "\n",
    "```python\n",
    "import pandas as pd\n",
    "my_data = pd.read_csv(\"path_to/my_data.csv\")\n",
    "```"
   ]
  },
  {
   "cell_type": "code",
   "execution_count": null,
   "metadata": {
    "collapsed": true,
    "tags": [
     "@sample_code"
    ]
   },
   "outputs": [],
   "source": [
    "# This is the sample code the student will see. It should\n",
    "# consist of up to 10 lines of code and comments, and the\n",
    "# student should have to complete at most 5 lines of code.\n",
    "\n",
    "# Rule of thumb: each bullet point in @instructions should\n",
    "# correspond to a comment in the @sample_code.\n",
    "\n",
    "# Indicate missing code with ...\n",
    "like_this = ...\n",
    "# or when a line or more is required, like this:\n",
    "# ... YOUR CODE FOR TASK 5 ..."
   ]
  },
  {
   "cell_type": "code",
   "execution_count": null,
   "metadata": {
    "tags": [
     "@solution"
    ]
   },
   "outputs": [],
   "source": [
    "# Import numpy\n",
    "import numpy as np\n",
    "\n",
    "# Calculate the cumulative explained variance\n",
    "cum_exp_variance = np.cumsum(exp_variance)\n",
    "\n",
    "# Plot the cumulative explained variance and draw a dashed line at 0.90.\n",
    "fig, ax = plt.subplots()\n",
    "ax.plot(cum_exp_variance)\n",
    "ax.axhline(y=0.9, linestyle='--')\n",
    "\n",
    "# Use PCA with the chosen number of components\n",
    "pca = PCA(6)\n",
    "pca.fit(scaled_train_features)\n",
    "projection = pca.transform(scaled_train_features)"
   ]
  },
  {
   "cell_type": "code",
   "execution_count": null,
   "metadata": {
    "collapsed": true,
    "tags": [
     "@tests"
    ]
   },
   "outputs": [],
   "source": [
    "# This needs to be included at the beginning of every @tests cell.\n",
    "%%nose\n",
    "\n",
    "# One or more tests of the students code. \n",
    "# The @solution should pass the tests.\n",
    "# The purpose of the tests is to try to catch common errors and to \n",
    "# give the student a hint on how to resolve these errors.\n",
    "\n",
    "def test_example():\n",
    "    assert like_this == 'missing part filled in', \\\n",
    "    'The student will see this message if the test fails'"
   ]
  },
  {
   "cell_type": "markdown",
   "metadata": {
    "tags": [
     "type:NotebookTask"
    ]
   },
   "source": [
    "## 6. Train a decision tree to classify genre."
   ]
  },
  {
   "cell_type": "markdown",
   "metadata": {
    "tags": [
     "@context"
    ]
   },
   "source": [
    "Now that we have reduced the dimensionality of our dataset, we can start classifying our data. In order to do that, we first need to split our dataset into 'train' and 'test' subsets, where the 'train' subset will be used to train our model while the 'test' dataset allows for model performance validation.\n",
    "\n",
    "Here, we will be using a simple algorithm known as a decision tree. Decision trees are rule-based classifiers that take in features and follow a 'tree structure' of binary decisions to ultimately classify a data point into one of two or more categories. In addition to being easy to use and interpret, decision trees allow us to visualize the 'logic flowchart' that the model generates from the training data.\n",
    "\n",
    "**PICTURE**\n"
   ]
  },
  {
   "cell_type": "markdown",
   "metadata": {
    "tags": [
     "@instructions"
    ]
   },
   "source": [
    "**One** sentence that summarizes the code the student will write in this task.\n",
    "- The specific task instructions go in a bullet point list. One sentence ideally (max 2) per bullet.\n",
    "- Try to map code cell comments to instruction bullets.\n",
    "- At most 4 bullets.\n",
    "\n",
    "<hr>\n",
    "\n",
    "Provide more info (if necessary) and include links to external resources under the horizontal ruler. The instructions should at most have 600 characters. Example format for links below.\n",
    "\n",
    "Helpful links:\n",
    "- pandas `read_csv()` function [documentation](https://pandas.pydata.org/pandas-docs/stable/generated/pandas.read_csv.html)\n",
    "- Reading a flat file [exercise](https://campus.datacamp.com/courses/pandas-foundations/data-ingestion-inspection?ex=10) in the pandas Foundations course"
   ]
  },
  {
   "cell_type": "markdown",
   "metadata": {
    "tags": [
     "@hint"
    ]
   },
   "source": [
    "Hints are meant for students who are stuck. Since students can't view solutions in Projects, clicking the hint button is their last resort. We often recommend including code scaffolding (example below).\n",
    "\n",
    "You can read `path_to/my_data.csv` into a DataFrame named `my_data` like this after importing the pandas library:\n",
    "\n",
    "```python\n",
    "import pandas as pd\n",
    "my_data = pd.read_csv(\"path_to/my_data.csv\")\n",
    "```"
   ]
  },
  {
   "cell_type": "code",
   "execution_count": null,
   "metadata": {
    "collapsed": true,
    "tags": [
     "@sample_code"
    ]
   },
   "outputs": [],
   "source": [
    "# This is the sample code the student will see. It should\n",
    "# consist of up to 10 lines of code and comments, and the\n",
    "# student should have to complete at most 5 lines of code.\n",
    "\n",
    "# Rule of thumb: each bullet point in @instructions should\n",
    "# correspond to a comment in the @sample_code.\n",
    "\n",
    "# Indicate missing code with ...\n",
    "like_this = ...\n",
    "# or when a line or more is required, like this:\n",
    "# ... YOUR CODE FOR TASK 6 ..."
   ]
  },
  {
   "cell_type": "code",
   "execution_count": null,
   "metadata": {
    "tags": [
     "@solution"
    ]
   },
   "outputs": [],
   "source": [
    "# Import train_test_split function and Decision tree classifier\n",
    "from sklearn.model_selection import train_test_split\n",
    "from sklearn.tree import DecisionTreeClassifier\n",
    "\n",
    "# Split our data\n",
    "train_features, test_features, train_labels, test_labels = train_test_split(\n",
    "    projection, labels, random_state=10)\n",
    "\n",
    "# Train our decision tree\n",
    "tree = DecisionTreeClassifier(random_state=10)\n",
    "tree.fit(train_features, train_labels)\n",
    "pred_labels_tree = tree.predict(test_features)"
   ]
  },
  {
   "cell_type": "code",
   "execution_count": null,
   "metadata": {
    "collapsed": true,
    "tags": [
     "@tests"
    ]
   },
   "outputs": [],
   "source": [
    "# This needs to be included at the beginning of every @tests cell.\n",
    "%%nose\n",
    "\n",
    "# One or more tests of the students code. \n",
    "# The @solution should pass the tests.\n",
    "# The purpose of the tests is to try to catch common errors and to \n",
    "# give the student a hint on how to resolve these errors.\n",
    "\n",
    "def test_example():\n",
    "    assert like_this == 'missing part filled in', \\\n",
    "    'The student will see this message if the test fails'"
   ]
  },
  {
   "cell_type": "markdown",
   "metadata": {
    "tags": [
     "type:NotebookTask"
    ]
   },
   "source": [
    "## 7. Compare our decision tree to a logistic regression."
   ]
  },
  {
   "cell_type": "markdown",
   "metadata": {
    "tags": [
     "@context"
    ]
   },
   "source": [
    "- our tree does okay, but it's best to check its performance agsinst multiple other models and find the one that's best for our data\n",
    "- describe logistic regression - 'test against the best simple model first' (Occam's razor!)\n",
    "\n",
    "Although our tree's performance is decent, it's a bad idea to immediately assume that it's the right tool for the job -- maybe there are other models that will perform even better! It's always a worthwhile idea to at least test a few other algorithms and find the one that's best for our data.\n",
    "\n",
    "Sometimes simplest is best, and so we will start by applying logistic regression. Logistic regression makes use of what's called the logistic function to calculate the odds that a given data point belongs to a given class. Once we have both models, we can compare them on a few performance metrics, such as false positive and false negative rate (how many points are inaccurately classified). "
   ]
  },
  {
   "cell_type": "markdown",
   "metadata": {
    "tags": [
     "@instructions"
    ]
   },
   "source": [
    "**One** sentence that summarizes the code the student will write in this task.\n",
    "- The specific task instructions go in a bullet point list. One sentence ideally (max 2) per bullet.\n",
    "- Try to map code cell comments to instruction bullets.\n",
    "- At most 4 bullets.\n",
    "\n",
    "<hr>\n",
    "\n",
    "Provide more info (if necessary) and include links to external resources under the horizontal ruler. The instructions should at most have 600 characters. Example format for links below.\n",
    "\n",
    "Helpful links:\n",
    "- pandas `read_csv()` function [documentation](https://pandas.pydata.org/pandas-docs/stable/generated/pandas.read_csv.html)\n",
    "- Reading a flat file [exercise](https://campus.datacamp.com/courses/pandas-foundations/data-ingestion-inspection?ex=10) in the pandas Foundations course"
   ]
  },
  {
   "cell_type": "markdown",
   "metadata": {
    "tags": [
     "@hint"
    ]
   },
   "source": [
    "Hints are meant for students who are stuck. Since students can't view solutions in Projects, clicking the hint button is their last resort. We often recommend including code scaffolding (example below).\n",
    "\n",
    "You can read `path_to/my_data.csv` into a DataFrame named `my_data` like this after importing the pandas library:\n",
    "\n",
    "```python\n",
    "import pandas as pd\n",
    "my_data = pd.read_csv(\"path_to/my_data.csv\")\n",
    "```"
   ]
  },
  {
   "cell_type": "code",
   "execution_count": null,
   "metadata": {
    "collapsed": true,
    "tags": [
     "@sample_code"
    ]
   },
   "outputs": [],
   "source": [
    "# This is the sample code the student will see. It should\n",
    "# consist of up to 10 lines of code and comments, and the\n",
    "# student should have to complete at most 5 lines of code.\n",
    "\n",
    "# Rule of thumb: each bullet point in @instructions should\n",
    "# correspond to a comment in the @sample_code.\n",
    "\n",
    "# Indicate missing code with ...\n",
    "like_this = ...\n",
    "# or when a line or more is required, like this:\n",
    "# ... YOUR CODE FOR TASK 7 ..."
   ]
  },
  {
   "cell_type": "code",
   "execution_count": null,
   "metadata": {
    "tags": [
     "@solution"
    ]
   },
   "outputs": [],
   "source": [
    "# Import LogisticRegression\n",
    "from sklearn.linear_model import LogisticRegression\n",
    "\n",
    "# Train our logisitic regression\n",
    "logreg = LogisticRegression(random_state=10)\n",
    "logreg.fit(train_features, train_labels)\n",
    "pred_labels_logit = logreg.predict(test_features)\n",
    "\n",
    "# Compare the models\n",
    "from sklearn.metrics import classification_report\n",
    "print(\"Decision Tree: \\n\", classification_report(test_labels, pred_labels_tree))\n",
    "print(\"Logistic Regression: \\n\", classification_report(test_labels, pred_labels_logit))"
   ]
  },
  {
   "cell_type": "code",
   "execution_count": null,
   "metadata": {
    "collapsed": true,
    "tags": [
     "@tests"
    ]
   },
   "outputs": [],
   "source": [
    "# This needs to be included at the beginning of every @tests cell.\n",
    "%%nose\n",
    "\n",
    "# One or more tests of the students code. \n",
    "# The @solution should pass the tests.\n",
    "# The purpose of the tests is to try to catch common errors and to \n",
    "# give the student a hint on how to resolve these errors.\n",
    "\n",
    "def test_example():\n",
    "    assert like_this == 'missing part filled in', \\\n",
    "    'The student will see this message if the test fails'"
   ]
  },
  {
   "cell_type": "markdown",
   "metadata": {
    "tags": [
     "type:NotebookTask"
    ]
   },
   "source": [
    "## 8. Balance our data for greater performance."
   ]
  },
  {
   "cell_type": "markdown",
   "metadata": {
    "tags": [
     "@context"
    ]
   },
   "source": [
    "Both our models do similarly well, boasting 87% precision each. However, looking at our classification report, we can see that rock songs are fairly well classified, but hip hop songs are disproportionately misclassified as rock songs. \n",
    "\n",
    "Why might this be the case? Well, just by looking at the number of data points we have for each class, we see that we have far more data points for the rock classification than for hip hop, potentially skewing our model's ability to distinguish between classes. This also tells us that most of our model's accuracy is driven by its ability to classify just rock songs, which is less than ideal.\n",
    "\n",
    "To account for this, we can weight the value of a correct classification in each class inversely proportional to the occurence of data points for each class. Since a correct classification for \"Rock\" is not more important than a correct classifiation for \"Hip-Hop\" (and vice verse), we only need to account for differences in sample size of our data points when weighting our classes, and not relative importance of each class. "
   ]
  },
  {
   "cell_type": "markdown",
   "metadata": {
    "tags": [
     "@instructions"
    ]
   },
   "source": [
    "**One** sentence that summarizes the code the student will write in this task.\n",
    "- The specific task instructions go in a bullet point list. One sentence ideally (max 2) per bullet.\n",
    "- Try to map code cell comments to instruction bullets.\n",
    "- At most 4 bullets.\n",
    "\n",
    "<hr>\n",
    "\n",
    "Provide more info (if necessary) and include links to external resources under the horizontal ruler. The instructions should at most have 600 characters. Example format for links below.\n",
    "\n",
    "Helpful links:\n",
    "- pandas `read_csv()` function [documentation](https://pandas.pydata.org/pandas-docs/stable/generated/pandas.read_csv.html)\n",
    "- Reading a flat file [exercise](https://campus.datacamp.com/courses/pandas-foundations/data-ingestion-inspection?ex=10) in the pandas Foundations course"
   ]
  },
  {
   "cell_type": "markdown",
   "metadata": {
    "tags": [
     "@hint"
    ]
   },
   "source": [
    "Hints are meant for students who are stuck. Since students can't view solutions in Projects, clicking the hint button is their last resort. We often recommend including code scaffolding (example below).\n",
    "\n",
    "You can read `path_to/my_data.csv` into a DataFrame named `my_data` like this after importing the pandas library:\n",
    "\n",
    "```python\n",
    "import pandas as pd\n",
    "my_data = pd.read_csv(\"path_to/my_data.csv\")\n",
    "```"
   ]
  },
  {
   "cell_type": "code",
   "execution_count": null,
   "metadata": {
    "collapsed": true,
    "tags": [
     "@sample_code"
    ]
   },
   "outputs": [],
   "source": [
    "# This is the sample code the student will see. It should\n",
    "# consist of up to 10 lines of code and comments, and the\n",
    "# student should have to complete at most 5 lines of code.\n",
    "\n",
    "# Rule of thumb: Each bullet point in @instructions should\n",
    "# correspond to a comment in the @sample_code\n",
    "\n",
    "# Indicate missing code with ...\n",
    "like_this = ...\n",
    "# or when a line or more is required, like this:\n",
    "# ... YOUR CODE FOR TASK 8 ..."
   ]
  },
  {
   "cell_type": "code",
   "execution_count": null,
   "metadata": {
    "tags": [
     "@solution"
    ]
   },
   "outputs": [],
   "source": [
    "# Subset a balanced proportion of data points\n",
    "hop_only = echo_tracks.loc[echo_tracks['genre_top'] == 'Hip-Hop']\n",
    "num_hop = hop_only.shape[0]\n",
    "rock_only = echo_tracks.loc[echo_tracks['genre_top'] == 'Rock'].sample(num_hop)\n",
    "rock_hop_bal = pd.concat([rock_only, hop_only])\n",
    "\n",
    "# Redefine our train, test sets\n",
    "features = rock_hop_bal.drop(['genre_top', 'track_id'], axis=1) \n",
    "labels = rock_hop_bal['genre_top']\n",
    "train_features, test_features, train_labels, test_labels = train_test_split(\n",
    "    features, labels, random_state=10)"
   ]
  },
  {
   "cell_type": "code",
   "execution_count": null,
   "metadata": {
    "collapsed": true,
    "tags": [
     "@tests"
    ]
   },
   "outputs": [],
   "source": [
    "# This needs to be included at the beginning of every @tests cell.\n",
    "%%nose\n",
    "\n",
    "# One or more tests of the students code. \n",
    "# The @solution should pass the tests.\n",
    "# The purpose of the tests is to try to catch common errors and to \n",
    "# give the student a hint on how to resolve these errors.\n",
    "\n",
    "def test_example():\n",
    "    assert like_this == 'missing part filled in', \\\n",
    "    'The student will see this message if the test fails'"
   ]
  },
  {
   "cell_type": "markdown",
   "metadata": {
    "tags": [
     "type:NotebookTask"
    ]
   },
   "source": [
    "## 9. Confirm whether balancing our dataset improves our model."
   ]
  },
  {
   "cell_type": "markdown",
   "metadata": {
    "tags": [
     "@context"
    ]
   },
   "source": [
    "We've balanced our dataset but in doing so removed a lot of data points that might have been crucial to training our models. Let's test to see if balancing our data improves model bias towards \"Rock\" classification while retaining overall classification performance. \n",
    "\n",
    "Note that we have reduced the size of our dataset and will go forward without applying any dimensionality reduction. In practice, we would consider dimensionality reduction more rigorously when dealing with vastly large datasets and when compute times become prohibitive."
   ]
  },
  {
   "cell_type": "markdown",
   "metadata": {
    "tags": [
     "@instructions"
    ]
   },
   "source": [
    "**One** sentence that summarizes the code the student will write in this task.\n",
    "- The specific task instructions go in a bullet point list. One sentence ideally (max 2) per bullet.\n",
    "- Try to map code cell comments to instruction bullets.\n",
    "- At most 4 bullets.\n",
    "\n",
    "<hr>\n",
    "\n",
    "Provide more info (if necessary) and include links to external resources under the horizontal ruler. The instructions should at most have 600 characters. Example format for links below.\n",
    "\n",
    "Helpful links:\n",
    "- pandas `read_csv()` function [documentation](https://pandas.pydata.org/pandas-docs/stable/generated/pandas.read_csv.html)\n",
    "- Reading a flat file [exercise](https://campus.datacamp.com/courses/pandas-foundations/data-ingestion-inspection?ex=10) in the pandas Foundations course"
   ]
  },
  {
   "cell_type": "markdown",
   "metadata": {
    "tags": [
     "@hint"
    ]
   },
   "source": [
    "Hints are meant for students who are stuck. Since students can't view solutions in Projects, clicking the hint button is their last resort. We often recommend including code scaffolding (example below).\n",
    "\n",
    "You can read `path_to/my_data.csv` into a DataFrame named `my_data` like this after importing the pandas library:\n",
    "\n",
    "```python\n",
    "import pandas as pd\n",
    "my_data = pd.read_csv(\"path_to/my_data.csv\")\n",
    "```"
   ]
  },
  {
   "cell_type": "code",
   "execution_count": null,
   "metadata": {
    "collapsed": true,
    "tags": [
     "@sample_code"
    ]
   },
   "outputs": [],
   "source": [
    "# This is the sample code the student will see. It should\n",
    "# consist of up to 10 lines of code and comments, and the\n",
    "# student should have to complete at most 5 lines of code.\n",
    "\n",
    "# Rule of thumb: Each bullet point in @instructions should\n",
    "# correspond to a comment in the @sample_code\n",
    "\n",
    "# Indicate missing code with ...\n",
    "like_this = ...\n",
    "# or when a line or more is required, like this:\n",
    "# ... YOUR CODE FOR TASK 8 ..."
   ]
  },
  {
   "cell_type": "code",
   "execution_count": null,
   "metadata": {
    "tags": [
     "@solution"
    ]
   },
   "outputs": [],
   "source": [
    "# Train our decision tree on the balanced data\n",
    "tree = DecisionTreeClassifier(random_state=10)\n",
    "tree.fit(train_features, train_labels)\n",
    "pred_labels_tree = tree.predict(test_features)\n",
    "\n",
    "# Train our logistic regression on the balanced data\n",
    "logreg = LogisticRegression(random_state=10)\n",
    "logreg.fit(train_features, train_labels)\n",
    "pred_labels_logit = logreg.predict(test_features)\n",
    "\n",
    "# compare the models\n",
    "from sklearn.metrics import classification_report\n",
    "print(\"Decision Tree: \\n\", classification_report(test_labels, pred_labels_tree))\n",
    "print(\"Logistic Regression: \\n\", classification_report(test_labels, pred_labels_logit))"
   ]
  },
  {
   "cell_type": "code",
   "execution_count": null,
   "metadata": {
    "collapsed": true,
    "tags": [
     "@tests"
    ]
   },
   "outputs": [],
   "source": [
    "# This needs to be included at the beginning of every @tests cell.\n",
    "%%nose\n",
    "\n",
    "# One or more tests of the students code. \n",
    "# The @solution should pass the tests.\n",
    "# The purpose of the tests is to try to catch common errors and to \n",
    "# give the student a hint on how to resolve these errors.\n",
    "\n",
    "def test_example():\n",
    "    assert like_this == 'missing part filled in', \\\n",
    "    'The student will see this message if the test fails'"
   ]
  },
  {
   "cell_type": "markdown",
   "metadata": {
    "tags": [
     "type:NotebookTask"
    ]
   },
   "source": [
    "## 10. Using cross-validation to evaluate our models."
   ]
  },
  {
   "cell_type": "markdown",
   "metadata": {
    "tags": [
     "@context"
    ]
   },
   "source": [
    "Success! Balancing our data has removed bias towards the more prevalent class. To get a good sense of how well our models are actually performing, we can apply what's called **cross-validation** (CV). This step allows us to compare models in a more rigorous fashion.\n",
    "\n",
    "Since the way our data is split into train and test sets can impact model performance, CV attempts to split the data multiple ways and test the model on each of the splits. Although there are many different CV methods, all with their own advantages and disadvantages, we will use K-fold CV. K-fold splits the data in K different, equally sized subsets. K-fold iteratively uses each subset as a test set while using the remainder of the data as train sets. Finally, we aggregate the results from each fold for a final model performance score."
   ]
  },
  {
   "cell_type": "markdown",
   "metadata": {
    "tags": [
     "@instructions"
    ]
   },
   "source": [
    "**One** sentence that summarizes the code the student will write in this task.\n",
    "- The specific task instructions go in a bullet point list. One sentence ideally (max 2) per bullet.\n",
    "- Try to map code cell comments to instruction bullets.\n",
    "- At most 4 bullets.\n",
    "\n",
    "<hr>\n",
    "\n",
    "Provide more info (if necessary) and include links to external resources under the horizontal ruler. The instructions should at most have 600 characters. Example format for links below.\n",
    "\n",
    "Helpful links:\n",
    "- pandas `read_csv()` function [documentation](https://pandas.pydata.org/pandas-docs/stable/generated/pandas.read_csv.html)\n",
    "- Reading a flat file [exercise](https://campus.datacamp.com/courses/pandas-foundations/data-ingestion-inspection?ex=10) in the pandas Foundations course"
   ]
  },
  {
   "cell_type": "markdown",
   "metadata": {
    "tags": [
     "@hint"
    ]
   },
   "source": [
    "Hints are meant for students who are stuck. Since students can't view solutions in Projects, clicking the hint button is their last resort. We often recommend including code scaffolding (example below).\n",
    "\n",
    "You can read `path_to/my_data.csv` into a DataFrame named `my_data` like this after importing the pandas library:\n",
    "\n",
    "```python\n",
    "import pandas as pd\n",
    "my_data = pd.read_csv(\"path_to/my_data.csv\")\n",
    "```"
   ]
  },
  {
   "cell_type": "code",
   "execution_count": null,
   "metadata": {
    "collapsed": true,
    "tags": [
     "@sample_code"
    ]
   },
   "outputs": [],
   "source": [
    "# This is the sample code the student will see. It should\n",
    "# consist of up to 10 lines of code and comments, and the\n",
    "# student should have to complete at most 5 lines of code.\n",
    "\n",
    "# Rule of thumb: Each bullet point in @instructions should\n",
    "# correspond to a comment in the @sample_code\n",
    "\n",
    "# Indicate missing code with ...\n",
    "like_this = ...\n",
    "# or when a line or more is required, like this:\n",
    "# ... YOUR CODE FOR TASK 8 ..."
   ]
  },
  {
   "cell_type": "code",
   "execution_count": null,
   "metadata": {
    "tags": [
     "@solution"
    ]
   },
   "outputs": [],
   "source": [
    "# Set up our K-fold cross-validation\n",
    "from sklearn.model_selection import KFold, cross_val_score\n",
    "kf = KFold(10, random_state=10)\n",
    "\n",
    "# Set up our models again\n",
    "tree = DecisionTreeClassifier(random_state=10)\n",
    "logreg = LogisticRegression(random_state=10)\n",
    "\n",
    "tree_score = cross_val_score(tree, features, labels, cv=kf)\n",
    "logit_score = cross_val_score(logreg, features, labels, cv=kf)\n",
    "\n",
    "print(\"Decision Tree:\", np.mean(tree_score), \"Logistic Regression:\", np.mean(logit_score))"
   ]
  },
  {
   "cell_type": "code",
   "execution_count": null,
   "metadata": {
    "collapsed": true,
    "tags": [
     "@tests"
    ]
   },
   "outputs": [],
   "source": [
    "# This needs to be included at the beginning of every @tests cell.\n",
    "%%nose\n",
    "\n",
    "# One or more tests of the students code. \n",
    "# The @solution should pass the tests.\n",
    "# The purpose of the tests is to try to catch common errors and to \n",
    "# give the student a hint on how to resolve these errors.\n",
    "\n",
    "def test_example():\n",
    "    assert like_this == 'missing part filled in', \\\n",
    "    'The student will see this message if the test fails'"
   ]
  },
  {
   "cell_type": "markdown",
   "metadata": {},
   "source": [
    "*The recommended number of tasks in a DataCamp Project is between 8 and 10, so feel free to add more if necessary. You can't have more than 12 tasks.*"
   ]
  }
 ],
 "metadata": {
  "anaconda-cloud": {},
  "celltoolbar": "Tags",
  "kernelspec": {
   "display_name": "Python [conda env:py3]",
   "language": "python",
   "name": "conda-env-py3-py"
  },
  "language_info": {
   "codemirror_mode": {
    "name": "ipython",
    "version": 3
   },
   "file_extension": ".py",
   "mimetype": "text/x-python",
   "name": "python",
   "nbconvert_exporter": "python",
   "pygments_lexer": "ipython3",
   "version": "3.5.4"
  }
 },
 "nbformat": 4,
 "nbformat_minor": 2
}
